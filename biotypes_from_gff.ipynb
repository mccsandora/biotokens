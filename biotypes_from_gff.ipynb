{
 "cells": [
  {
   "cell_type": "code",
   "execution_count": 32,
   "metadata": {},
   "outputs": [],
   "source": [
    "from collections import defaultdict\n",
    "from Bio.Seq import Seq\n",
    "from Bio import SeqIO\n",
    "from Bio.SeqRecord import SeqRecord"
   ]
  },
  {
   "cell_type": "code",
   "execution_count": 33,
   "metadata": {},
   "outputs": [],
   "source": [
    "# Paths to your files\n",
    "gff_file_path = \"/Users/celia/Desktop/biotokens/ncbi/fungi/GCF_000146045.2_R64_genomic.gff\"\n",
    "genome_file_path = \"/Users/celia/Desktop/biotokens/ncbi/fungi/GCF_000146045.2_R64_genomic.fna\""
   ]
  },
  {
   "cell_type": "code",
   "execution_count": 37,
   "metadata": {},
   "outputs": [
    {
     "data": {
      "text/plain": [
       "6027"
      ]
     },
     "execution_count": 37,
     "metadata": {},
     "output_type": "execute_result"
    }
   ],
   "source": [
    "def read_gffs(gff_file_path, genome_file_path, output_file_path):\n",
    "    # Load genome sequence\n",
    "    genome_dict = SeqIO.to_dict(SeqIO.parse(genome_file_path, \"fasta\"))\n",
    "\n",
    "    # Dictionary to store CDS features by their Parent ID\n",
    "    cds_by_parent = defaultdict(list)\n",
    "\n",
    "    # Parse the GFF file\n",
    "    with open(gff_file_path) as file:\n",
    "        for line in file:\n",
    "            if not line.startswith(\"#\"):\n",
    "                parts = line.strip().split('\\t')\n",
    "                if parts[2] == \"CDS\":\n",
    "                    # Extract relevant data\n",
    "                    seq_id = parts[0]\n",
    "                    start = int(parts[3]) - 1  # GFF is 1-based, converting to 0-based\n",
    "                    end = int(parts[4])\n",
    "                    strand = parts[6]\n",
    "                    attributes = parts[8]\n",
    "\n",
    "                    # Extract Parent ID\n",
    "                    parent_id = None\n",
    "                    for attribute in attributes.split(';'):\n",
    "                        if attribute.startswith(\"Parent=\"):\n",
    "                            parent_id = attribute.split('=')[1]\n",
    "                            break\n",
    "\n",
    "                    if parent_id:\n",
    "                        # Append CDS feature details\n",
    "                        cds_by_parent[parent_id].append((seq_id, start, end, strand))\n",
    "\n",
    "    # Function to join CDS sequences\n",
    "    def join_cds(cds_list):\n",
    "        cds_list.sort(key=lambda x: x[1])  # Sort by start position\n",
    "        joined_seq = Seq('')\n",
    "        sequence_id = ''\n",
    "        for seq_id, start, end, strand in cds_list:\n",
    "            seq = genome_dict[seq_id].seq[start:end]\n",
    "            if strand == '-':\n",
    "                seq = seq.reverse_complement()\n",
    "            joined_seq += seq\n",
    "            sequence_id = seq_id\n",
    "        return joined_seq, sequence_id\n",
    "\n",
    "    # Join CDS for each Parent ID\n",
    "    cds_records = []\n",
    "    for parent_id, cds_list in cds_by_parent.items():\n",
    "        joined_cds_seq, seq_id = join_cds(cds_list)\n",
    "        cds_record = SeqRecord(joined_cds_seq, id=seq_id, description=\"\")\n",
    "        cds_records.append(cds_record)\n",
    "\n",
    "    # Save to a FASTA file\n",
    "    output_file = \"/Users/celia/Desktop/biotokens/ncbi/fungi/joined_cds_sequences.fasta\"\n",
    "    SeqIO.write(cds_records, output_file, \"fasta\")"
   ]
  },
  {
   "cell_type": "code",
   "execution_count": null,
   "metadata": {},
   "outputs": [],
   "source": []
  }
 ],
 "metadata": {
  "kernelspec": {
   "display_name": ".biotokens",
   "language": "python",
   "name": "python3"
  },
  "language_info": {
   "codemirror_mode": {
    "name": "ipython",
    "version": 3
   },
   "file_extension": ".py",
   "mimetype": "text/x-python",
   "name": "python",
   "nbconvert_exporter": "python",
   "pygments_lexer": "ipython3",
   "version": "3.11.7"
  }
 },
 "nbformat": 4,
 "nbformat_minor": 2
}
