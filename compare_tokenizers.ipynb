{
 "cells": [
  {
   "cell_type": "code",
   "execution_count": 1,
   "id": "55133b2f-d40c-4868-9bd2-1740812d97f1",
   "metadata": {},
   "outputs": [
    {
     "name": "stdout",
     "output_type": "stream",
     "text": [
      "genome size: 4641650\n"
     ]
    }
   ],
   "source": [
    "import glob\n",
    "import re\n",
    "import os\n",
    "from collections import Counter\n",
    "import numpy as np\n",
    "from tqdm import tqdm\n",
    "import sentencepiece as spm\n",
    "from matplotlib import pyplot as plt\n",
    "\n",
    "with open('data/e_coli_genome.txt','r') as f:\n",
    "    e = f.read()\n",
    "e = e.split()\n",
    "e = ''.join([i for i in e if len(i)==10 and re.sub('[acgt]','',i)==''])\n",
    "print('genome size:',len(e))"
   ]
  },
  {
   "cell_type": "code",
   "execution_count": 2,
   "id": "232c7c5e-9613-4771-9afe-410939c354eb",
   "metadata": {},
   "outputs": [],
   "source": [
    "sp = spm.SentencePieceProcessor(\n",
    "    model_file='sentencepiece/ecoli_8800.model')\n",
    "\n",
    "toks = sp.encode_as_pieces(e)\n",
    "\n",
    "tokcounts1 = Counter(toks)\n",
    "\n",
    "sp = spm.SentencePieceProcessor(\n",
    "    model_file='sentencepiece/ecoli_7000.model')\n",
    "\n",
    "toks = sp.encode_as_pieces(e)\n",
    "\n",
    "tokcounts2 = Counter(toks)"
   ]
  },
  {
   "cell_type": "code",
   "execution_count": 3,
   "id": "179ebe90-d276-4a4b-9a28-5324b4d40ce3",
   "metadata": {},
   "outputs": [
    {
     "name": "stdout",
     "output_type": "stream",
     "text": [
      "slope 1.0692479765127638\n",
      "intercept -0.57497828669465\n",
      "r_value 0.9730363016998703\n",
      "p_value 0.0\n",
      "std_err 0.0030302730336668844\n"
     ]
    },
    {
     "data": {
      "image/png": "[encoded data removed]",
      "text/plain": [
       "<Figure size 432x288 with 1 Axes>"
      ]
     },
     "metadata": {
      "needs_background": "light"
     },
     "output_type": "display_data"
    }
   ],
   "source": [
    "from matplotlib import pyplot as plt\n",
    "from scipy import stats\n",
    "\n",
    "toks = list(set(tokcounts1)&set(tokcounts2))\n",
    "\n",
    "C1 = np.array([tokcounts1[t] for t in toks])\n",
    "C2 = np.array([tokcounts2[t] for t in toks])\n",
    "C1 = C1/sum(C1)\n",
    "C2 = C2/sum(C2)\n",
    "plt.scatter(C1,C2)\n",
    "m = max(max(C1),max(C2))\n",
    "plt.plot([0,m],[0,m])\n",
    "plt.xscale('log')\n",
    "plt.yscale('log')\n",
    "\n",
    "\n",
    "slope, intercept, r_value, p_value, std_err = stats.linregress(\n",
    "                            -np.log(C1),-np.log(C2))\n",
    "ns = 'slope, intercept, r_value, p_value, std_err'.split(', ')\n",
    "for n,x in zip(ns, [slope, intercept, r_value, p_value, std_err]):\n",
    "    print(n,x)"
   ]
  },
  {
   "cell_type": "code",
   "execution_count": null,
   "id": "f2ce25d8-cd27-4f2b-9692-1aefd06dd14b",
   "metadata": {},
   "outputs": [],
   "source": []
  }
 ],
 "metadata": {
  "kernelspec": {
   "display_name": "Python 3 (ipykernel)",
   "language": "python",
   "name": "python3"
  },
  "language_info": {
   "codemirror_mode": {
    "name": "ipython",
    "version": 3
   },
   "file_extension": ".py",
   "mimetype": "text/x-python",
   "name": "python",
   "nbconvert_exporter": "python",
   "pygments_lexer": "ipython3",
   "version": "3.10.5"
  }
 },
 "nbformat": 4,
 "nbformat_minor": 5
}
