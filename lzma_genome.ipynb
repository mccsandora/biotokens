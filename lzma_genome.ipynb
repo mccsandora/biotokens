{
 "cells": [
  {
   "cell_type": "code",
   "execution_count": 1,
   "id": "9bf15e3b-a732-43d0-bd17-312e8ea4cb8b",
   "metadata": {},
   "outputs": [],
   "source": [
    "import lzma\n",
    "import numpy as np\n",
    "from utils.processing_utils import read_gffs\n",
    "\n",
    "gff_file_path = \"ncbi/fungi/GCF_000146045/GCF_000146045.2_R64_genomic.gff\"\n",
    "genome_file_path = \"ncbi/fungi/GCF_000146045/GCF_000146045.2_R64_genomic.fna\"\n",
    "output_file_path = \"ncbi/fungi/GCF_000146045/joined_cds_sequences.fasta\"\n",
    "\n",
    "cdss = read_gffs(gff_file_path, genome_file_path, output_file_path)\n",
    "cdss = [str(c.seq).upper() for c in cdss]\n",
    "genome=''.join(cdss)\n"
   ]
  },
  {
   "cell_type": "code",
   "execution_count": 2,
   "id": "329294d2-d478-4250-8ff7-976aa396c96c",
   "metadata": {},
   "outputs": [
    {
     "data": {
      "text/plain": [
       "0.2440353973636905"
      ]
     },
     "execution_count": 2,
     "metadata": {},
     "output_type": "execute_result"
    }
   ],
   "source": [
    "compressed_genome = lzma.compress(bytes(genome,'utf-8'))\n",
    "\n",
    "len(compressed_genome)/len(genome)"
   ]
  },
  {
   "cell_type": "code",
   "execution_count": 3,
   "id": "514a4a0b-1a89-40d0-9cc8-bda2a964a23b",
   "metadata": {},
   "outputs": [
    {
     "name": "stdout",
     "output_type": "stream",
     "text": [
      "áAúè>®ÜmÞ3H\u001f%C\u001c",
      "Nõ\teEAà\u0017\u0015-ùàÿAÆ¸}\u0014S¾\u0016³çR\u0014.\u0014\u0016»Ôë\u001d",
      "I#ÀÝKÍB³q\u001c",
      "Ù\u0001Èå\u000f2«+Ì\u0001\n"
     ]
    },
    {
     "data": {
      "text/plain": [
       "0.9635175450285687"
      ]
     },
     "execution_count": 3,
     "metadata": {},
     "output_type": "execute_result"
    }
   ],
   "source": [
    "def sub_in(genome):\n",
    "    code = [('A','00'), \n",
    "     ('C','01'),\n",
    "     ('G','10'),\n",
    "     ('T','11')]\n",
    "    for c,d in code:\n",
    "        genome = genome.replace(c,d)\n",
    "    encoded_genome =  [chr(int(genome[k:k+8],2)) \n",
    "                       for k in np.arange(0,len(genome),8)]\n",
    "    return ''.join(encoded_genome)\n",
    "    \n",
    "encoded_genome = sub_in(genome)\n",
    "print(encoded_genome[:100])\n",
    "\n",
    "compressed_encoded_genome = lzma.compress(bytes(encoded_genome,'utf-8'))\n",
    "\n",
    "len(compressed_encoded_genome)/len(encoded_genome)"
   ]
  }
 ],
 "metadata": {
  "kernelspec": {
   "display_name": "venv2",
   "language": "python",
   "name": "venv2"
  },
  "language_info": {
   "codemirror_mode": {
    "name": "ipython",
    "version": 3
   },
   "file_extension": ".py",
   "mimetype": "text/x-python",
   "name": "python",
   "nbconvert_exporter": "python",
   "pygments_lexer": "ipython3",
   "version": "3.10.5"
  }
 },
 "nbformat": 4,
 "nbformat_minor": 5
}
