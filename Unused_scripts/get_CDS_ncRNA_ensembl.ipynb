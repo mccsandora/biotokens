{
 "cells": [
  {
   "cell_type": "markdown",
   "metadata": {},
   "source": [
    "# Jupyter Notebook to loop (download - process - delete) through all CDS and ncRNA in Ensembl"
   ]
  },
  {
   "cell_type": "markdown",
   "metadata": {},
   "source": [
    "Relevant sites: <br>\n",
    "https://useast.ensembl.org/info/data/ftp/index.html  <br>\n",
    "https://useast.ensembl.org/info/website/tutorials/sequence.html  <br>\n",
    "https://useast.ensembl.org/info/genome/genebuild/biotypes.html  <br>\n",
    "https://www.ensembl.info/2018/08/17/ensembl-insights-how-are-utrs-annotated/  <br>\n",
    "https://useast.ensembl.org/info/genome/genebuild/ncrna.html  <br>\n",
    "https://useast.ensembl.org/Help/View?id=155  <br>"
   ]
  },
  {
   "cell_type": "markdown",
   "metadata": {},
   "source": []
  },
  {
   "cell_type": "code",
   "execution_count": 1,
   "metadata": {},
   "outputs": [
    {
     "name": "stdout",
     "output_type": "stream",
     "text": [
      "Downloading https://ftp.ensembl.org/pub/release-112/fasta/amphilophus_citrinellus/cds/Amphilophus_citrinellus.Midas_v5.cds.all.fa.gz...\n",
      "Processed amphilophus_citrinellus cds, found 31765 entries.\n",
      "Downloading https://ftp.ensembl.org/pub/release-112/fasta/amphilophus_citrinellus/ncrna/Amphilophus_citrinellus.Midas_v5.ncrna.fa.gz...\n",
      "Processed amphilophus_citrinellus ncrna, found 782 entries.\n",
      "Downloading https://ftp.ensembl.org/pub/release-112/fasta/amphiprion_ocellaris/cds/Amphiprion_ocellaris.ASM2253959v1.cds.all.fa.gz...\n",
      "Processed amphiprion_ocellaris cds, found 70038 entries.\n",
      "Downloading https://ftp.ensembl.org/pub/release-112/fasta/amphiprion_ocellaris/ncrna/Amphiprion_ocellaris.ASM2253959v1.ncrna.fa.gz...\n",
      "Processed amphiprion_ocellaris ncrna, found 5852 entries.\n",
      "Downloading https://ftp.ensembl.org/pub/release-112/fasta/amphiprion_percula/cds/Amphiprion_percula.Nemo_v1.cds.all.fa.gz...\n",
      "Processed amphiprion_percula cds, found 34985 entries.\n",
      "Downloading https://ftp.ensembl.org/pub/release-112/fasta/amphiprion_percula/ncrna/Amphiprion_percula.Nemo_v1.ncrna.fa.gz...\n",
      "Processed amphiprion_percula ncrna, found 875 entries.\n"
     ]
    }
   ],
   "source": [
    "import requests\n",
    "import gzip\n",
    "import os\n",
    "from Bio import SeqIO\n",
    "import pandas as pd\n",
    "from bs4 import BeautifulSoup\n",
    "\n",
    "# Base URL for Ensembl FASTA files\n",
    "base_url = \"https://ftp.ensembl.org/pub/release-112/fasta/\"\n",
    "\n",
    "# Path to save the Excel file\n",
    "output_path = \"/Users/celia/Desktop/biotokens/ensembl/ensembl_cds_ncrna_counts.xlsx\"\n",
    "\n",
    "# Fetch the list of organisms\n",
    "response = requests.get(base_url)\n",
    "if response.status_code != 200:\n",
    "    print(f\"Failed to access {base_url}\")\n",
    "    exit()\n",
    "\n",
    "soup = BeautifulSoup(response.text, 'html.parser')\n",
    "organism_links = soup.find_all('a', href=True)\n",
    "# Filter organisms starting with 'amphi' just for testing purposes - remove if link['href'].startswith('a') if processing all organisms\n",
    "organisms = [link['href'].strip('/') for link in organism_links if link['href'].startswith('amphi') and link['href'].endswith('/')]\n",
    "\n",
    "# DataFrame to store the results\n",
    "results = pd.DataFrame(columns=[\"Organism\", \"CDS_Count\", \"ncRNA_Count\"])\n",
    "\n",
    "for organism in organisms:\n",
    "    try:\n",
    "        # Initialize counts\n",
    "        cds_count = 0\n",
    "        ncrna_count = 0\n",
    "\n",
    "        # Define file types and corresponding data processing\n",
    "        for data_type in [\"cds\", \"ncrna\"]:\n",
    "            url = f\"{base_url}{organism}/{data_type}/\"\n",
    "            response = requests.get(url)\n",
    "            \n",
    "            if response.status_code == 200:\n",
    "                soup = BeautifulSoup(response.text, 'html.parser')\n",
    "                links = soup.find_all('a', href=True)\n",
    "                \n",
    "                for link in links:\n",
    "                    href = link['href']\n",
    "                    if href.endswith('.fa.gz'):\n",
    "                        file_name = href\n",
    "                        file_url = url + file_name\n",
    "                        \n",
    "                        print(f\"Downloading {file_url}...\")\n",
    "                        response = requests.get(file_url)\n",
    "                        if response.status_code == 200:\n",
    "                            with open(file_name, 'wb') as f:\n",
    "                                f.write(response.content)\n",
    "                            \n",
    "                            # Count the number of sequences\n",
    "                            with gzip.open(file_name, 'rt') as f:\n",
    "                                count = sum(1 for _ in SeqIO.parse(f, \"fasta\"))\n",
    "                            \n",
    "                            # Update the respective count\n",
    "                            if data_type == \"cds\":\n",
    "                                cds_count += count\n",
    "                            elif data_type == \"ncrna\":\n",
    "                                ncrna_count += count\n",
    "                            \n",
    "                            # Delete the file after processing\n",
    "                            os.remove(file_name)\n",
    "                            print(f\"Processed {organism} {data_type}, found {count} entries.\")\n",
    "                        break\n",
    "            else:\n",
    "                print(f\"Could not access {url}, status code: {response.status_code}\")\n",
    "        \n",
    "        # Store the result in the DataFrame\n",
    "        results = pd.concat([results, pd.DataFrame({\"Organism\": [organism], \"CDS_Count\": [cds_count], \"ncRNA_Count\": [ncrna_count]})], ignore_index=True)\n",
    "        \n",
    "    except Exception as e:\n",
    "        print(f\"An error occurred while processing {organism}: {e}\")\n",
    "\n",
    "# Save the results to a single spreadsheet\n",
    "results.to_excel(output_path, index=False)"
   ]
  },
  {
   "cell_type": "code",
   "execution_count": null,
   "metadata": {},
   "outputs": [],
   "source": []
  }
 ],
 "metadata": {
  "kernelspec": {
   "display_name": ".apen",
   "language": "python",
   "name": "python3"
  },
  "language_info": {
   "codemirror_mode": {
    "name": "ipython",
    "version": 3
   },
   "file_extension": ".py",
   "mimetype": "text/x-python",
   "name": "python",
   "nbconvert_exporter": "python",
   "pygments_lexer": "ipython3",
   "version": "3.11.7"
  }
 },
 "nbformat": 4,
 "nbformat_minor": 2
}
