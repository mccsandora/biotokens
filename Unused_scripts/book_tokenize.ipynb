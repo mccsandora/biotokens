{
 "cells": [
  {
   "cell_type": "code",
   "execution_count": 1,
   "id": "23f92199-278d-4653-9918-e80dda7eb5d1",
   "metadata": {},
   "outputs": [],
   "source": [
    "import glob\n",
    "import re\n",
    "import os\n",
    "from collections import Counter\n",
    "import numpy as np\n",
    "from tqdm import tqdm\n",
    "import sentencepiece as spm\n",
    "from matplotlib import pyplot as plt"
   ]
  },
  {
   "cell_type": "code",
   "execution_count": 3,
   "id": "869cecd9-9dec-4fa6-bfed-cead55bef5f7",
   "metadata": {},
   "outputs": [
    {
     "data": {
      "text/plain": [
       "'/Users/mccullen/Dropbox/python/biotokens'"
      ]
     },
     "execution_count": 3,
     "metadata": {},
     "output_type": "execute_result"
    }
   ],
   "source": [
    "pwd"
   ]
  },
  {
   "cell_type": "code",
   "execution_count": 4,
   "id": "637d37c2-455a-465e-bc2e-4ac38cdd4bc2",
   "metadata": {},
   "outputs": [],
   "source": [
    "# removing spaces from book, The Golden Bough\n",
    "with open('data/golden_bough.txt','r') as f:\n",
    "    corpus = f.read()\n",
    "    \n",
    "corpus=corpus.split('Gutenberg')[5].split('EBOOK')[1]\n",
    "\n",
    "sents = re.sub('[^a-zA-Z\\.]','',corpus.lower()).split('.')\n",
    "with open('data/goldenbough.txt','w') as f:\n",
    "    f.write('\\n'.join(sents))"
   ]
  },
  {
   "cell_type": "code",
   "execution_count": 96,
   "id": "a6ac0f9d-a524-478f-add6-406a4f7313c3",
   "metadata": {},
   "outputs": [
    {
     "data": {
      "text/plain": [
       "array(['assomepeoplethinktheycanlightupthesunorspeedhimonhiswaysoothersfancytheycanretardorstophim',\n",
       "       'thenatureofosiris',\n",
       "       'iffromsicknessoranyothercausehewasunabletodischargethisdutyforthreewholedayshewashangedonthetreeinanoosewhichcontainedtworazorssoarrangedthatwhenthenoosewasdrawntightbytheweightofthekingsbodytheycuthisthroat',\n",
       "       'theinterpretationofthefirefestivals',\n",
       "       'whyisthisandwhyinparticularshouldamanbethoughttostunthisgrowthbyutteringhisownnamewemayconjecturethattosavageswhoactandthinkthusapersonsnameonlyseemstobeapartofhimselfwhenitisutteredwithhisownbreathutteredbythebreathofothersithasnovitalconnexionwithhimandnoharmcancometohimthroughit',\n",
       "       'amongtheyorubanegroesofwestafricathehumanvictimchosenforsacrificeandwhomaybeeitherafreebornoraslaveapersonofnobleorwealthyparentageoroneofhumblebirthisafterhehasbeenchosenandmarkedoutforthepurposecalledanoluwo',\n",
       "       'eatyourshareandmakeallthepeopleinthevillagewell',\n",
       "       'hiswholebeingbodyandsoulissodelicatelyattunedtotheharmonyoftheworldthatatouchofhishandoraturnofhisheadmaysendathrillvibratingthroughtheuniversalframeworkofthingsandconverselyhisdivineorganismisacutelysensitivetosuchslightchangesofenvironmentaswouldleaveordinarymortalswhollyunaffected',\n",
       "       'andyearbyyearwhenthetreesweredeciduouseveryadoniswouldseemtobleedtodeathwiththeredleavesofautumnandtocometolifeagainwiththefreshgreenofspring',\n",
       "       'atdingelstedtinthedistrictoferfurtdowntothefirsthalfofthenineteenthcenturyitwasthecustomtotieupamaninthelastsheaf',\n",
       "       'thomaschillingworthsonoftheownerofanadjoiningfarmnowaboutthirtyfourwaswhenaninfantofayearoldpassedthroughasimilartreenowperfectlysoundwhichhepreserveswithsomuchcarethathewillnotsufferasinglebranchtobetouchedforitisbelievedthelifeofthepatientdependsonthelifeofthetreeandthemomentthatiscutdownbethepatienteversodistanttherupturereturnsandamortificationensuesandterminatesindeathaswasthecaseinamandrivingawaggonontheveryroadinquestion',\n",
       "       'butiflongdroughtorrainthreatenstospoilthecropstheyinsultandbeathimtilltheweatherchanges',\n",
       "       'thewoodenbowlsplattersandspoonsoutofwhichthegilyakseatthebrothandfleshofthebearsontheseoccasionsarealwaysmadespeciallyforthepurposeatthefestivalandonlythentheyareelaboratelyornamentedwithcarvedfiguresofbearsandotherdevicesthatrefertotheanimalorthefestivalandthepeoplehaveastrongsuperstitiousscrupleagainstpartingwiththem',\n",
       "       'onthefirefestivalsingeneral',\n",
       "       'inthemountainouspartofcommingesaprovinceofsouthernfrancethemidsummerfireismadebysplittingopenthetrunkofatalltreestuffingthecrevicewithshavingsandignitingthewhole',\n",
       "       'inhissteadtherereignedatemporarykingcalledsdachmacthatiskingfebruary',\n",
       "       'inthiscustomthehighstewardappearsforsomereasontohaveusurpedtheinsigniaoftheking',\n",
       "       'nowashasbeenremarkedbeforewhenananimalissacrificedonceandonceonlyintheyearitisprobablyslainnotasavictimofferedtothegodbutasarepresentativeofthegodhimself',\n",
       "       'thereforewhenamanoranimalisseenboldlytoappropriatethesacredfirstfruitsheoritisnaturallyregardedasthedivinityhimselfinhumanoranimalformtakingpossessionofhisown',\n",
       "       'ataneclipsetheojebwaysusedtoimaginethatthesunwasbeingextinguished'],\n",
       "      dtype='<U981')"
      ]
     },
     "execution_count": 96,
     "metadata": {},
     "output_type": "execute_result"
    }
   ],
   "source": [
    "# displaying 20 random sentences\n",
    "np.random.choice(sents,20)"
   ]
  },
  {
   "cell_type": "code",
   "execution_count": null,
   "id": "dea40592-535a-4d6c-9596-e36c8d32135d",
   "metadata": {
    "tags": []
   },
   "outputs": [],
   "source": [
    "# training tokenizer\n",
    "spms = f'''--input=data/goldenbough.txt \n",
    "--model_prefix=sentencepiece/goldenbough \n",
    "--vocab_size=5000'''.replace('\\n','')\n",
    "\n",
    "spm.SentencePieceTrainer.train(spms)"
   ]
  },
  {
   "cell_type": "code",
   "execution_count": 98,
   "id": "86a44aa2-b8ff-42ae-935a-e1cf9e6c9b0f",
   "metadata": {},
   "outputs": [],
   "source": [
    "# saving first 500 tokens for manual review\n",
    "dfgb=pd.read_csv('sentencepiece/goldenbough.vocab',sep='\\t',\n",
    "            header=None)\n",
    "\n",
    "with open('goldenbough500.tsv','w') as f:\n",
    "    f.write('\\n'.join(dfgb[0][3:504]+'\\t'))"
   ]
  },
  {
   "cell_type": "code",
   "execution_count": 124,
   "id": "1e2e6b46-3b4f-427f-9df5-0a61c48c32e7",
   "metadata": {},
   "outputs": [
    {
     "data": {
      "text/plain": [
       "array([296,  68,  58,  26,  21,  21,   8,   1])"
      ]
     },
     "execution_count": 124,
     "metadata": {},
     "output_type": "execute_result"
    }
   ],
   "source": [
    "# opening manually reviewed tokens\n",
    "dfg = pd.read_csv('goldenbough500.tsv',\n",
    "            sep='\\t',header=None)\n",
    "\n",
    "dfg.columns=['token','clas']\n",
    "dfg.clas = dfg.apply(lambda D: 'b' if (len(D.token)==2 and D.clas=='x') else D.clas,axis=1)\n",
    "\n",
    "dfg.clas.value_counts().values"
   ]
  },
  {
   "cell_type": "code",
   "execution_count": 125,
   "id": "8fd7b0a3-c040-4788-81f9-58d765132538",
   "metadata": {},
   "outputs": [
    {
     "data": {
      "image/png": "[encoded data removed]",
      "text/plain": [
       "<Figure size 432x288 with 1 Axes>"
      ]
     },
     "metadata": {},
     "output_type": "display_data"
    }
   ],
   "source": [
    "# manual classification of first 500 tokens\n",
    "leg={'1': 'one word',\n",
    "'2': 'two words',\n",
    "'3': 'three words',\n",
    "'l': 'letter',\n",
    "'s': 'suffix',\n",
    "'p': 'prefix',\n",
    "'x': 'none of the above',\n",
    "'b':'two letters'}\n",
    "C = dfg.clas.value_counts()\n",
    "\n",
    "plt.pie(C.values,\n",
    "        labels=[leg[i] for i in C.index])\n",
    "plt.show()"
   ]
  },
  {
   "cell_type": "code",
   "execution_count": 5,
   "id": "3e8febd2-337d-4146-9149-d29a016c3e27",
   "metadata": {},
   "outputs": [
    {
     "name": "stdout",
     "output_type": "stream",
     "text": [
      "therefore when aman or animal is seen b old ly to appropriate thesacred firstfruit she or itis naturally regardedas the divinity himself in human or animal form taking possessionof hisown\n"
     ]
    }
   ],
   "source": [
    "# tokenization of example sentences\n",
    "from matplotlib import pyplot as plt\n",
    "sp = spm.SentencePieceProcessor(model_file='sentencepiece/goldenbough.model')\n",
    "sent = 'thereforewhenamanoranimalisseenboldlytoappropriatethesacredfirstfruitsheoritisnaturallyregardedasthedivinityhimselfinhumanoranimalformtakingpossessionofhisown'\n",
    "\n",
    "\n",
    "print(' '.join(sp.encode_as_pieces(sent)[1:]))\n",
    "\n"
   ]
  },
  {
   "cell_type": "code",
   "execution_count": 7,
   "id": "c902ba7f-7248-48e8-8eaa-26d9f1e1dc37",
   "metadata": {},
   "outputs": [
    {
     "data": {
      "text/plain": [
       "['therefore',\n",
       " '▁when',\n",
       " '▁',\n",
       " 'aman',\n",
       " '▁',\n",
       " 'or',\n",
       " '▁',\n",
       " 'animal',\n",
       " '▁',\n",
       " 'is',\n",
       " '▁',\n",
       " 'seen',\n",
       " '▁',\n",
       " 'b',\n",
       " '▁',\n",
       " 'old',\n",
       " '▁',\n",
       " 'ly',\n",
       " '▁',\n",
       " 'to',\n",
       " '▁',\n",
       " 'appropriate',\n",
       " '▁',\n",
       " 'thesacred',\n",
       " '▁',\n",
       " 'firstfruit',\n",
       " '▁',\n",
       " 'she',\n",
       " '▁',\n",
       " 'or',\n",
       " '▁itis',\n",
       " '▁',\n",
       " 'naturally',\n",
       " '▁',\n",
       " 'regardedas',\n",
       " '▁the',\n",
       " '▁',\n",
       " 'divinity',\n",
       " '▁',\n",
       " 'himself',\n",
       " '▁in',\n",
       " '▁',\n",
       " 'human',\n",
       " '▁',\n",
       " 'or',\n",
       " '▁',\n",
       " 'animal',\n",
       " '▁',\n",
       " 'form',\n",
       " '▁',\n",
       " 'taking',\n",
       " '▁',\n",
       " 'possessionof',\n",
       " '▁',\n",
       " 'hisown']"
      ]
     },
     "execution_count": 7,
     "metadata": {},
     "output_type": "execute_result"
    }
   ],
   "source": [
    "sent='therefore when aman or animal is seen b old ly to appropriate thesacred firstfruit she or itis naturally regardedas the divinity himself in human or animal form taking possessionof hisown'\n",
    "sp.encode_as_pieces(sent)[1:]\n"
   ]
  },
  {
   "cell_type": "code",
   "execution_count": 197,
   "id": "7bd8c4f8-e4bf-4434-807e-7b2ef90fc9dd",
   "metadata": {},
   "outputs": [
    {
     "data": {
      "image/png": "[encoded data removed]",
      "text/plain": [
       "<Figure size 432x288 with 1 Axes>"
      ]
     },
     "metadata": {
      "needs_background": "light"
     },
     "output_type": "display_data"
    },
    {
     "data": {
      "text/plain": [
       "(0.658, 0.84, 0.917)"
      ]
     },
     "execution_count": 197,
     "metadata": {},
     "output_type": "execute_result"
    }
   ],
   "source": [
    "# determining how many tokens are words/bigrams/trigrams from book vocab\n",
    "from scipy.ndimage import gaussian_filter\n",
    "\n",
    "words = re.sub('[^a-zA-Z]',' ',corpus.lower())\n",
    "words = words.split()\n",
    "bigrams = [w+z for w,z in zip(words[:-1],words[1:])]\n",
    "trigrams = [w+y+z for w,y,z in \n",
    "            zip(words[:-2],words[1:-1],words[2:])]\n",
    "\n",
    "words = set(words)\n",
    "bigrams = words|set(bigrams)\n",
    "trigrams = bigrams|set(trigrams)\n",
    "\n",
    "toks = dfgb[0][3:].tolist()\n",
    "in1s = [float(t.replace('▁','') in words) for t in toks]\n",
    "in2s = [float(t.replace('▁','') in bigrams) for t in toks]\n",
    "in3s = [float(t.replace('▁','') in trigrams) for t in toks]\n",
    "\n",
    "plt.plot(gaussian_filter(in1s,sigma=200),label='1 word')\n",
    "plt.plot(gaussian_filter(in2s,sigma=200),label='1 or 2 words')\n",
    "plt.plot(gaussian_filter(in3s,sigma=200),label='1, 2 or 3 words')\n",
    "plt.ylim(.4,1)\n",
    "plt.xlabel('token rank')\n",
    "plt.ylabel('percentage')\n",
    "plt.legend()\n",
    "plt.show()\n",
    "np.round(np.mean(in1s),3),\\\n",
    "np.round(np.mean(in2s),3),\\\n",
    "np.round(np.mean(in3s),3)"
   ]
  },
  {
   "cell_type": "code",
   "execution_count": 194,
   "id": "ceb6a932-d653-4b11-bd2c-71009ae8585f",
   "metadata": {},
   "outputs": [
    {
     "data": {
      "text/plain": [
       "['ofthe',\n",
       " 'inthe',\n",
       " 'tothe',\n",
       " 'onthe',\n",
       " 'itis',\n",
       " 'tobe',\n",
       " 'fromthe',\n",
       " 'ina',\n",
       " 'andthe',\n",
       " 'bythe',\n",
       " 'im',\n",
       " 'asa',\n",
       " 'withthe',\n",
       " 'forthe',\n",
       " 'thatthe',\n",
       " 'ofa',\n",
       " 'thesame',\n",
       " 'itwas',\n",
       " 'atthe',\n",
       " 'allthe']"
      ]
     },
     "execution_count": 194,
     "metadata": {},
     "output_type": "execute_result"
    }
   ],
   "source": [
    "# first 20 tokens in bigrams\n",
    "[t for t in toks \n",
    " if t.replace('▁','') not in words\n",
    " and t.replace('▁','') in bigrams][:20]\n",
    "\n"
   ]
  },
  {
   "cell_type": "code",
   "execution_count": null,
   "id": "ce3f4c00-6204-45de-be79-c67edc0c602e",
   "metadata": {
    "tags": []
   },
   "outputs": [],
   "source": [
    "# tokens not in trigrams\n",
    "[t for t in toks if t.replace('▁','') not in trigrams]"
   ]
  },
  {
   "cell_type": "code",
   "execution_count": 13,
   "id": "6a7c259d-bdc8-47ba-aa45-4425ce5b0a81",
   "metadata": {},
   "outputs": [],
   "source": [
    "# removing spaces from book, The Golden Bough\n",
    "from utils.tokenizer_utils import train_sentencepiece_tokenizer, compression_ratio\n",
    "\n",
    "with open('data/golden_bough.txt','r') as f:\n",
    "    corpus = f.read()\n",
    "    \n",
    "corpus=corpus.split('Gutenberg')[5].split('EBOOK')[1]\n",
    "\n",
    "sents = corpus.lower().split('.')\n",
    "sents = [s+'.' for s in sents]\n",
    "with open('data/goldenbough_punc.txt','w') as f:\n",
    "    f.write('\\n'.join(sents))"
   ]
  },
  {
   "cell_type": "code",
   "execution_count": null,
   "id": "45dd5ce0-ed98-4972-904f-2b5f37517e68",
   "metadata": {
    "tags": []
   },
   "outputs": [],
   "source": [
    "train_sentencepiece_tokenizer('data/goldenbough_punc.txt', \n",
    "                              'tokenizers/goldenbough_punc', \n",
    "                              10000)"
   ]
  },
  {
   "cell_type": "code",
   "execution_count": 24,
   "id": "02a6a923-3eb5-4914-aa2e-e6fbc6b063f5",
   "metadata": {},
   "outputs": [],
   "source": [
    "import pandas as pd\n",
    "tokenizer = spm.SentencePieceProcessor(model_file='tokenizers/goldenbough_punc.model')\n",
    "toks = []\n",
    "for t in tokenizer.encode(sents):\n",
    "    toks+=t\n",
    "\n",
    "with open('tokenizers/goldenbough_punc.vocab','r') as f:\n",
    "    vocab = f.read().split('\\n')\n",
    "    \n",
    "vocab = [v.split('\\t')[0].replace('▁','') for v in vocab]\n",
    "#vocab = vocab[0].tolist()"
   ]
  },
  {
   "cell_type": "code",
   "execution_count": 91,
   "id": "c75febff-3531-4e33-bd3f-768120e1927d",
   "metadata": {},
   "outputs": [
    {
     "data": {
      "text/plain": [
       "(61807, 1000198, 2287754, 0.4642129354816995)"
      ]
     },
     "execution_count": 91,
     "metadata": {},
     "output_type": "execute_result"
    }
   ],
   "source": [
    "def compression_ratio2(genome,tokens,vocab):\n",
    "    genome_len = len(genome)\n",
    "    stokens=set(tokens)\n",
    "    vocab_len = sum([len(v)+1 for e,v in enumerate(vocab) if e in stokens])-1\n",
    "    #sequence_len = len(' '.join([str(tok2up[i]) for i in tokens]))\n",
    "    sequence_len = len(' '.join([str(i) for i in tokens]))\n",
    "    sequence_len = len(tokens)*2\n",
    "    #sequence_len = len(' '.join([hex(i)[2:] for i in tokens]))\n",
    "    return vocab_len,sequence_len,genome_len,\\\n",
    "    (vocab_len+sequence_len)/genome_len\n",
    "\n",
    "compression_ratio2('\\n'.join(sents),toks,vocab)"
   ]
  },
  {
   "cell_type": "code",
   "execution_count": 87,
   "id": "31171f88-dad9-4335-9b71-2bb7ad108907",
   "metadata": {},
   "outputs": [
    {
     "data": {
      "text/plain": [
       "(500099, 1972909)"
      ]
     },
     "execution_count": 87,
     "metadata": {},
     "output_type": "execute_result"
    }
   ],
   "source": [
    "len(toks),len(' '.join([str(i) for i in toks]))"
   ]
  },
  {
   "cell_type": "code",
   "execution_count": 76,
   "id": "91f19b95-7a5b-4899-9fad-22829098a059",
   "metadata": {},
   "outputs": [
    {
     "data": {
      "text/plain": [
       "b'\\xfd7zXZ\\x00\\x00\\x04\\xe6\\xd6\\xb4F\\x02\\x00!\\x01\\x16\\x00\\x00\\x00t/\\xe5\\xa3\\xe0\\x00\\x9f\\x00\\x08]\\x000\\x99\\xaa0\\x10\\x00\\x00\\x00\\x00\\x83\\xb0v6\\xda\\x04\\x13c\\x00\\x01$\\xa0\\x01\\x00\\x00\\x00\\x0ek\\xf3\\x97\\xb1\\xc4g\\xfb\\x02\\x00\\x00\\x00\\x00\\x04YZ'"
      ]
     },
     "execution_count": 76,
     "metadata": {},
     "output_type": "execute_result"
    }
   ],
   "source": [
    "#A->00, C->01, G->10, T->11\n",
    "int('11011000',2)\n",
    "chr(int('11011000',2))\n",
    "\n",
    "import lzma\n",
    "\n",
    "lzma.compress(b'af'*80)"
   ]
  },
  {
   "cell_type": "code",
   "execution_count": 79,
   "id": "f8856427-a2ba-4e57-b044-078c9981cee9",
   "metadata": {},
   "outputs": [],
   "source": [
    "book = '\\n'.join(sents)\n",
    "compressed_book = lzma.compress(bytes(book,'utf-8'))"
   ]
  },
  {
   "cell_type": "code",
   "execution_count": 80,
   "id": "809afeca-0fd1-463e-80d4-78be9fbfc741",
   "metadata": {},
   "outputs": [
    {
     "data": {
      "text/plain": [
       "0.28370008313830947"
      ]
     },
     "execution_count": 80,
     "metadata": {},
     "output_type": "execute_result"
    }
   ],
   "source": [
    "len(compressed_book)/len(book)"
   ]
  },
  {
   "cell_type": "code",
   "execution_count": 98,
   "id": "ce6560fe-98c9-47d6-9ff5-ad645fc6f7a8",
   "metadata": {},
   "outputs": [
    {
     "data": {
      "text/plain": [
       "0.30078125"
      ]
     },
     "execution_count": 98,
     "metadata": {},
     "output_type": "execute_result"
    }
   ],
   "source": [
    "len(set(book))/256"
   ]
  },
  {
   "cell_type": "code",
   "execution_count": 95,
   "id": "1bf2884c-d336-4d75-b3d7-dbb3b0d9f0fb",
   "metadata": {},
   "outputs": [],
   "source": [
    "from utils.tokenizer_utils import train_sentencepiece_tokenizer, compression_ratio\n",
    "\n",
    "with open('data/islandlife.txt','r') as f:\n",
    "    corpus = f.read()\n",
    "    \n",
    "#corpus=corpus.split('Gutenberg')[5].split('EBOOK')[1]\n",
    "\n",
    "sents = corpus.lower().split('.')\n",
    "sents = [s+'.' for s in sents]\n",
    "with open('data/islandlife_punc.txt','w') as f:\n",
    "    f.write('\\n'.join(sents))\n",
    "    \n",
    "#train_sentencepiece_tokenizer('data/islandlife_punc.txt', \n",
    "#                              'tokenizers/islandlife_punc', \n",
    "#                              10000)\n",
    "with open('tokenizers/islandlife_punc.vocab','r') as f:\n",
    "    vocab2 = f.read().split('\\n')\n",
    "    \n",
    "vocab2 = [v.split('\\t')[0].replace('▁','') for v in vocab2]"
   ]
  },
  {
   "cell_type": "code",
   "execution_count": 96,
   "id": "5de8b4ac-a713-48ec-bb52-05219e084133",
   "metadata": {},
   "outputs": [
    {
     "name": "stdout",
     "output_type": "stream",
     "text": [
      "slope 0.7109840294640762\n",
      "intercept -2.222723175289583\n",
      "r_value 0.721591190668108\n",
      "p_value 0.0\n",
      "std_err 0.011221939004979184\n"
     ]
    },
    {
     "data": {
      "text/plain": [
       "[<matplotlib.lines.Line2D at 0x17e5bf310>]"
      ]
     },
     "execution_count": 96,
     "metadata": {},
     "output_type": "execute_result"
    },
    {
     "data": {
      "image/png": "[encoded data removed]",
      "text/plain": [
       "<Figure size 432x288 with 1 Axes>"
      ]
     },
     "metadata": {
      "needs_background": "light"
     },
     "output_type": "display_data"
    }
   ],
   "source": [
    "from scipy import stats\n",
    "V = list(set(vocab)&set(vocab2))\n",
    "V1 = [vocab.index(v)+1 for v in V]\n",
    "V2 = [vocab2.index(v)+1 for v in V]\n",
    "slope, intercept, r_value, p_value, std_err = stats.linregress(\n",
    "                            -np.log(V1),-np.log(V2))\n",
    "ns = 'slope, intercept, r_value, p_value, std_err'.split(', ')\n",
    "for n,x in zip(ns, [slope, intercept, r_value, p_value, std_err]):\n",
    "    print(n,x)\n",
    "    \n",
    "plt.scatter(V1,V2,s=1)\n",
    "plt.xscale('log')\n",
    "plt.yscale('log')\n",
    "plt.plot([1,10**4],[1,10**4],c='black')"
   ]
  },
  {
   "cell_type": "code",
   "execution_count": 97,
   "id": "2939653c-6212-4ead-862a-68cb7cef8d4b",
   "metadata": {},
   "outputs": [
    {
     "data": {
      "image/png": "[encoded data removed]",
      "text/plain": [
       "<Figure size 432x288 with 1 Axes>"
      ]
     },
     "metadata": {
      "needs_background": "light"
     },
     "output_type": "display_data"
    },
    {
     "data": {
      "text/plain": [
       "0.4153465902707561"
      ]
     },
     "execution_count": 97,
     "metadata": {},
     "output_type": "execute_result"
    }
   ],
   "source": [
    "def ov(l1,l2):\n",
    "    s1, s2 = set(l1),set(l2)\n",
    "    return len(s1&s2)/min(len(s1),len(s2))\n",
    "\n",
    "plt.plot([ov(vocab[:k],vocab2[:k]) \n",
    "          for k in range(1,len(vocab))],label='both up to k')\n",
    "plt.plot([ov(vocab[:k],vocab2) \n",
    "          for k in range(1,len(vocab))],label='up to k vs all')\n",
    "plt.plot([ov(vocab,vocab2[:k]) \n",
    "          for k in range(1,len(vocab))],label='all vs up to k')\n",
    "plt.plot([ov(vocab[max(0,k-300):k],vocab2) \n",
    "          for k in range(1,len(vocab))],label='window of 300')\n",
    "plt.legend()\n",
    "plt.show()\n",
    "ov(vocab,vocab2)"
   ]
  },
  {
   "cell_type": "code",
   "execution_count": null,
   "id": "d7ab72e5-e721-4f26-94be-fafd374f8f6c",
   "metadata": {},
   "outputs": [],
   "source": []
  }
 ],
 "metadata": {
  "kernelspec": {
   "display_name": "Python 3 (ipykernel)",
   "language": "python",
   "name": "python3"
  },
  "language_info": {
   "codemirror_mode": {
    "name": "ipython",
    "version": 3
   },
   "file_extension": ".py",
   "mimetype": "text/x-python",
   "name": "python",
   "nbconvert_exporter": "python",
   "pygments_lexer": "ipython3",
   "version": "3.10.5"
  }
 },
 "nbformat": 4,
 "nbformat_minor": 5
}
