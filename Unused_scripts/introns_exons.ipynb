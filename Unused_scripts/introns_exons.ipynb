{
  "nbformat": 4,
  "nbformat_minor": 0,
  "metadata": {
    "colab": {
      "provenance": []
    },
    "kernelspec": {
      "name": "python3",
      "display_name": "Python 3"
    },
    "language_info": {
      "name": "python"
    }
  },
  "cells": [
    {
      "cell_type": "code",
      "source": [
        "pip install Bio"
      ],
      "metadata": {
        "colab": {
          "base_uri": "https://localhost:8080/"
        },
        "id": "O3k8-M7h-P0N",
        "outputId": "03949528-3ae5-41e2-8832-b7df0dee5572"
      },
      "execution_count": null,
      "outputs": [
        {
          "output_type": "stream",
          "name": "stdout",
          "text": [
            "Collecting Bio\n",
            "  Downloading bio-1.7.1-py3-none-any.whl.metadata (5.7 kB)\n",
            "Collecting biopython>=1.80 (from Bio)\n",
            "  Downloading biopython-1.84-cp310-cp310-manylinux_2_17_x86_64.manylinux2014_x86_64.whl.metadata (12 kB)\n",
            "Collecting gprofiler-official (from Bio)\n",
            "  Downloading gprofiler_official-1.0.0-py3-none-any.whl.metadata (11 kB)\n",
            "Collecting mygene (from Bio)\n",
            "  Downloading mygene-3.2.2-py2.py3-none-any.whl.metadata (10 kB)\n",
            "Requirement already satisfied: pandas in /usr/local/lib/python3.10/dist-packages (from Bio) (2.0.3)\n",
            "Requirement already satisfied: pooch in /usr/local/lib/python3.10/dist-packages (from Bio) (1.8.2)\n",
            "Requirement already satisfied: requests in /usr/local/lib/python3.10/dist-packages (from Bio) (2.31.0)\n",
            "Requirement already satisfied: tqdm in /usr/local/lib/python3.10/dist-packages (from Bio) (4.66.4)\n",
            "Requirement already satisfied: numpy in /usr/local/lib/python3.10/dist-packages (from biopython>=1.80->Bio) (1.25.2)\n",
            "Collecting biothings-client>=0.2.6 (from mygene->Bio)\n",
            "  Downloading biothings_client-0.3.1-py2.py3-none-any.whl.metadata (9.8 kB)\n",
            "Requirement already satisfied: python-dateutil>=2.8.2 in /usr/local/lib/python3.10/dist-packages (from pandas->Bio) (2.8.2)\n",
            "Requirement already satisfied: pytz>=2020.1 in /usr/local/lib/python3.10/dist-packages (from pandas->Bio) (2023.4)\n",
            "Requirement already satisfied: tzdata>=2022.1 in /usr/local/lib/python3.10/dist-packages (from pandas->Bio) (2024.1)\n",
            "Requirement already satisfied: platformdirs>=2.5.0 in /usr/local/lib/python3.10/dist-packages (from pooch->Bio) (4.2.2)\n",
            "Requirement already satisfied: packaging>=20.0 in /usr/local/lib/python3.10/dist-packages (from pooch->Bio) (24.1)\n",
            "Requirement already satisfied: charset-normalizer<4,>=2 in /usr/local/lib/python3.10/dist-packages (from requests->Bio) (3.3.2)\n",
            "Requirement already satisfied: idna<4,>=2.5 in /usr/local/lib/python3.10/dist-packages (from requests->Bio) (3.7)\n",
            "Requirement already satisfied: urllib3<3,>=1.21.1 in /usr/local/lib/python3.10/dist-packages (from requests->Bio) (2.0.7)\n",
            "Requirement already satisfied: certifi>=2017.4.17 in /usr/local/lib/python3.10/dist-packages (from requests->Bio) (2024.7.4)\n",
            "Requirement already satisfied: six>=1.5 in /usr/local/lib/python3.10/dist-packages (from python-dateutil>=2.8.2->pandas->Bio) (1.16.0)\n",
            "Downloading bio-1.7.1-py3-none-any.whl (280 kB)\n",
            "\u001b[2K   \u001b[90m━━━━━━━━━━━━━━━━━━━━━━━━━━━━━━━━━━━━━━━━\u001b[0m \u001b[32m281.0/281.0 kB\u001b[0m \u001b[31m13.7 MB/s\u001b[0m eta \u001b[36m0:00:00\u001b[0m\n",
            "\u001b[?25hDownloading biopython-1.84-cp310-cp310-manylinux_2_17_x86_64.manylinux2014_x86_64.whl (3.2 MB)\n",
            "\u001b[2K   \u001b[90m━━━━━━━━━━━━━━━━━━━━━━━━━━━━━━━━━━━━━━━━\u001b[0m \u001b[32m3.2/3.2 MB\u001b[0m \u001b[31m61.2 MB/s\u001b[0m eta \u001b[36m0:00:00\u001b[0m\n",
            "\u001b[?25hDownloading gprofiler_official-1.0.0-py3-none-any.whl (9.3 kB)\n",
            "Downloading mygene-3.2.2-py2.py3-none-any.whl (5.4 kB)\n",
            "Downloading biothings_client-0.3.1-py2.py3-none-any.whl (29 kB)\n",
            "Installing collected packages: biopython, gprofiler-official, biothings-client, mygene, Bio\n",
            "Successfully installed Bio-1.7.1 biopython-1.84 biothings-client-0.3.1 gprofiler-official-1.0.0 mygene-3.2.2\n"
          ]
        }
      ]
    },
    {
      "cell_type": "code",
      "execution_count": null,
      "metadata": {
        "id": "vz1UmJSvVS43"
      },
      "outputs": [],
      "source": [
        "import pandas as pd\n",
        "import Bio\n",
        "from Bio import SeqIO\n",
        "import gzip\n",
        "import io\n",
        "import math\n",
        "\n",
        "from collections import Counter\n"
      ]
    },
    {
      "cell_type": "code",
      "source": [
        "def fasta_file_to_txt(file_name,txt_file):\n",
        "    df=pd.read_csv(file_name)\n",
        "    colum=df.columns[0]\n",
        "    merged_text=' '.join(df[colum])\n",
        "    with open(txt_file,'w') as file:\n",
        "        file.write(merged_text)\n"
      ],
      "metadata": {
        "id": "8TpABuyMVcIX"
      },
      "execution_count": null,
      "outputs": []
    },
    {
      "cell_type": "code",
      "source": [
        "def open_reading_frame(file_name,file_type,orf_file):\n",
        "    record = SeqIO.read(file_name, file_type)\n",
        "    min_pro_len = 100\n",
        "    results = []\n",
        "    orfs=[]\n",
        "    for strand, nuc in [(+1, record.seq), (-1, record.seq.reverse_complement())]:\n",
        "         for frame in range(3):\n",
        "             length = 3 * ((len(record) - frame) // 3)\n",
        "             for pro in nuc[frame : frame + length].split(\"*\"):\n",
        "                 if len(pro) >= min_pro_len:\n",
        "                     result=(\n",
        "                         \"%s...%s - length %i, strand %i, frame %i  \"\n",
        "                         % (pro[:30], pro[-3:], len(pro), strand, frame)\n",
        "                     )\n",
        "                     orfs.append(str(pro))\n",
        "                     results.append(result)\n",
        "    with open(orf_file,'w') as file:\n",
        "        for line in str(orfs):\n",
        "            file.write(line)\n",
        "\n",
        "    return orf_file"
      ],
      "metadata": {
        "id": "6ZYK34GfDQqQ"
      },
      "execution_count": null,
      "outputs": []
    },
    {
      "cell_type": "code",
      "source": [
        "file_name='GCF_000441575.1_ASM44157v1_genomic.fna'\n",
        "orf_file='Candidatus_Carsonella_ruddii_DC.txt'\n",
        "open_reading_frame(file_name,'fasta',orf_file)"
      ],
      "metadata": {
        "colab": {
          "base_uri": "https://localhost:8080/",
          "height": 35
        },
        "id": "XAEoscUUD6wI",
        "outputId": "0709957b-adae-4749-d5a1-89ba01c695dd"
      },
      "execution_count": null,
      "outputs": [
        {
          "output_type": "execute_result",
          "data": {
            "text/plain": [
              "'Candidatus_Carsonella_ruddii_DC.txt'"
            ],
            "application/vnd.google.colaboratory.intrinsic+json": {
              "type": "string"
            }
          },
          "metadata": {},
          "execution_count": 5
        }
      ]
    },
    {
      "cell_type": "code",
      "source": [
        "genome_sequence=[]\n",
        "with open(orf_file,'r') as file:\n",
        "  genome_sequence=file.read()"
      ],
      "metadata": {
        "id": "MrSZL-LaDT5h"
      },
      "execution_count": null,
      "outputs": []
    },
    {
      "cell_type": "code",
      "source": [
        "#splitting introns that start with 'GT' and end with 'AG'\n",
        "def intron_split(genome_sequence):\n",
        "    introns = []\n",
        "    i = 0\n",
        "    while i < len(genome_sequence):\n",
        "        if genome_sequence[i:i+2] == 'GT':\n",
        "            j = i + 2\n",
        "            while j < len(genome_sequence):\n",
        "                if genome_sequence[j:j+2] == 'AG':\n",
        "                    introns.append(genome_sequence[i:j+2])\n",
        "                    i = j + 2\n",
        "                    break\n",
        "                j += 1\n",
        "            else:\n",
        "                i = j\n",
        "        else:\n",
        "          i+=1\n",
        "    return introns\n",
        "\n",
        "introns = intron_split(genome_sequence)\n",
        "\n",
        "print(\"Introns:\", introns[:20])\n",
        "print(len(introns))\n"
      ],
      "metadata": {
        "colab": {
          "base_uri": "https://localhost:8080/"
        },
        "id": "wBNgGknVKG2A",
        "outputId": "230473fc-4c99-4cce-d3b4-35f1eadd7978"
      },
      "execution_count": null,
      "outputs": [
        {
          "output_type": "stream",
          "name": "stdout",
          "text": [
            "Introns: ['GTTGCAAAAG', 'GTGTTAG', 'GTGTTTTTCAAATCACCTAAATCATTAACAG', 'GTGAAG', 'GTTATCGAG', 'GTAATTTATATTTGTCAACAATAATAATGGAATTTTTGATTAAG', 'GTAAAATTTCTTTAATGGAATGTGAAATGATTAATAATAAAATTATTTATAATAATGAG', 'GTTTAAG', 'GTATAATTAAAAATTCAAG', 'GTTTAG', 'GTTATTAAG', 'GTAG', 'GTTGGGAAATCAACTTTATTTAATAAATTATGTTTACAATATGATTCTATTGTAACAAATATACCTGGAACAACAACAAATACGATTACTAAACAAATATATTTTACTTCAAAAACAATTAATTTAAACGATACAG', 'GTTTAAAAATAAAAACAAAAAATTTAATAG', 'GTATAATGAAAAATATCAATAAATCTTACGAAG', 'GTTCTTTATATTATTGATAAATTTGATTTAAG', 'GTATTTTATAATACTCCATTAG', 'GTTAATAAATGTGATATTTTTGGAATAAAAG', 'GTAAAAAATTTATTTGTTATATTTTTATCTGCTAAACATAG', 'GTTTTAATTTTTAG']\n",
            "15171\n"
          ]
        }
      ]
    },
    {
      "cell_type": "code",
      "source": [
        "#splitting exons\n",
        "def exon_split(genome_sequence):\n",
        "    exons = []\n",
        "    i = 0\n",
        "    while i < len(genome_sequence):\n",
        "        if genome_sequence[i:i+2] == 'GT':\n",
        "            j = i + 2\n",
        "            while j < len(genome_sequence):\n",
        "                if genome_sequence[j:j+2] == 'AG':\n",
        "                    i = j + 2\n",
        "                    break\n",
        "                j += 1\n",
        "            else:\n",
        "                exons.append(genome_sequence[i:])\n",
        "                break\n",
        "        else:\n",
        "            exon_start = i\n",
        "            while i < len(genome_sequence) and genome_sequence[i:i+2] != 'GT':\n",
        "                i += 1\n",
        "            exons.append(genome_sequence[exon_start:i])\n",
        "\n",
        "        i += 1\n",
        "\n",
        "    return exons\n",
        "\n",
        "exons=exon_split(genome_sequence)\n",
        "print('exons: ',exons[:20])\n",
        "print(len(exons))"
      ],
      "metadata": {
        "colab": {
          "base_uri": "https://localhost:8080/"
        },
        "id": "CxLECtqfLD3N",
        "outputId": "70012166-8223-49a1-c639-d184e9fc5731"
      },
      "execution_count": null,
      "outputs": [
        {
          "output_type": "stream",
          "name": "stdout",
          "text": [
            "exons:  [\"['ATGAAAAATATTATT\", 'TTGCAAAA', 'TTACTCCTGATGATTTAACATCAATTTGCATTATTAGATTATCTGGAAAAAAATTAAGAAAATTTATAAAACCTTTAATTAAAAAAAAATTAAAGATTCAAAAATTAGAATATACAAAATTATATGGATTAAATAATCAATTTATAGACTTT', 'T', 'TTA', 'TA', 'T', 'TTTTTCAAATCACCTAAATCATTAACAG', 'TGAAGAT', 'TTATCGA', 'TTTCATTTACACG', 'TAATTTATATTT', 'TCAACAATAATAATGGAATTTTTGATTAA', 'TTAGGAGCTAAAATTGCAAAACCAGGGGAATTTTTAGAGAGAAGATATTTGAATG', 'TAAAATTTCTTTAATGGAAT', 'TGAAATGATTAATAATAAAATTATTTATAATAATGAGAATAT', 'TTTAA', 'TTAACTTCAAATTCTGAAAAAGATATATATCTTT', 'TATAATTAAAAATTCAAGATTTAGAATAAATATGCTAATTATTT', 'TTTAGAATTTATTTTAATAAATGAAAAAGAATC']\n",
            "29224\n"
          ]
        }
      ]
    },
    {
      "cell_type": "code",
      "source": [
        "#Compute introns and exons compressibility\n",
        "def compressibility(sequence):\n",
        "    data = sequence.encode('utf-8')\n",
        "\n",
        "    compressed_data = io.BytesIO()\n",
        "    with gzip.GzipFile(fileobj=compressed_data, mode='wb') as f:\n",
        "        f.write(data)\n",
        "\n",
        "    original_length = len(data)\n",
        "    compressed_length = compressed_data.tell()\n",
        "    print('original length: ',original_length)\n",
        "    print('compressed length: ',compressed_length)\n",
        "    print('The compressed length is ',(compressed_length*100/original_length),'% smaller than the original length')\n",
        "\n",
        "    return compressed_length / original_length\n",
        "\n",
        "print('for introns:')\n",
        "compressibility(str(introns))\n",
        "print('for exons:')\n",
        "compressibility(str(exons))"
      ],
      "metadata": {
        "colab": {
          "base_uri": "https://localhost:8080/"
        },
        "id": "ZWaE-HD5PXhU",
        "outputId": "7f39c5d9-cc69-4c52-a14b-3926108ec6c5"
      },
      "execution_count": null,
      "outputs": [
        {
          "output_type": "stream",
          "name": "stdout",
          "text": [
            "for introns:\n",
            "original length:  599058\n",
            "compressed length:  131037\n",
            "The compressed length is  21.873841931832978 % smaller than the original length\n",
            "for exons:\n",
            "original length:  1131769\n",
            "compressed length:  264649\n",
            "The compressed length is  23.38365867946551 % smaller than the original length\n"
          ]
        },
        {
          "output_type": "execute_result",
          "data": {
            "text/plain": [
              "0.2338365867946551"
            ]
          },
          "metadata": {},
          "execution_count": 13
        }
      ]
    },
    {
      "cell_type": "code",
      "source": [
        "#same function as in Tiana's notebook to compute entropy\n",
        "def shannon_entropy(s):\n",
        "    frequency = Counter(s)\n",
        "    probabilities = [freq / len(s) for freq in frequency.values()]\n",
        "    entropy = -sum(p * math.log2(p) for p in probabilities)\n",
        "    return entropy\n",
        "print('introns entropy: ',shannon_entropy(str(introns)))\n",
        "print('exons entropy: ',shannon_entropy(str(exons)))\n"
      ],
      "metadata": {
        "id": "-7Jm9qlVRC4q",
        "colab": {
          "base_uri": "https://localhost:8080/"
        },
        "outputId": "dacf4f1b-d448-41bc-e247-cfbb77df7f87"
      },
      "execution_count": null,
      "outputs": [
        {
          "output_type": "stream",
          "name": "stdout",
          "text": [
            "introns entropy:  2.150352133552201\n",
            "exons entropy:  2.0804171579968145\n"
          ]
        }
      ]
    }
  ]
}