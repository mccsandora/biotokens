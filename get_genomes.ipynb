{
 "cells": [
  {
   "cell_type": "markdown",
   "metadata": {},
   "source": [
    "# Jupyter Notebook to loop (download - process - delete) through all genomes in refseq for a certain domain of life :\n",
    "# https://ftp.ncbi.nlm.nih.gov/genomes/refseq/"
   ]
  },
  {
   "cell_type": "code",
   "execution_count": 9,
   "metadata": {},
   "outputs": [],
   "source": [
    "import pandas as pd\n",
    "import requests\n",
    "import gzip\n",
    "from Bio import SeqIO\n",
    "import os\n",
    "import math\n",
    "from collections import Counter\n",
    "from EntropyHub import ApEn\n",
    "import numpy as np"
   ]
  },
  {
   "cell_type": "markdown",
   "metadata": {},
   "source": [
    "### Test this notebook with the assembly_summary_test.txt in Google Drive"
   ]
  },
  {
   "cell_type": "code",
   "execution_count": 10,
   "metadata": {},
   "outputs": [],
   "source": [
    "# Then,read the assembly_summary.txt file\n",
    "file_path = '/Users/celia/Desktop/genomes/test/assembly_summary_test.txt'\n",
    "df = pd.read_csv(file_path, sep='\\t', comment='#')"
   ]
  },
  {
   "cell_type": "code",
   "execution_count": 11,
   "metadata": {},
   "outputs": [
    {
     "name": "stdout",
     "output_type": "stream",
     "text": [
      "Column names in the dataframe:\n",
      "Index(['assembly_accession', 'bioproject', 'biosample', 'wgs_master',\n",
      "       'refseq_category', 'taxid', 'species_taxid', 'organism_name',\n",
      "       'infraspecific_name', 'isolate', 'version_status', 'assembly_level',\n",
      "       'release_type', 'genome_rep', 'seq_rel_date', 'asm_name',\n",
      "       'asm_submitter', 'gbrs_paired_asm', 'paired_asm_comp', 'ftp_path',\n",
      "       'excluded_from_refseq', 'relation_to_type_material',\n",
      "       'asm_not_live_date', 'assembly_type', 'group', 'genome_size',\n",
      "       'genome_size_ungapped', 'gc_percent', 'replicon_count',\n",
      "       'scaffold_count', 'contig_count', 'annotation_provider',\n",
      "       'annotation_name', 'annotation_date', 'total_gene_count',\n",
      "       'protein_coding_gene_count', 'non_coding_gene_count', 'pubmed_id'],\n",
      "      dtype='object')\n"
     ]
    }
   ],
   "source": [
    "# Print column names to verify\n",
    "print(\"Column names in the dataframe:\")\n",
    "print(df.columns)\n",
    "\n",
    "# Verify column names\n",
    "assembly_level_col = 'assembly_level'\n",
    "ftp_path_col = 'ftp_path'\n",
    "assembly_accession_col = 'assembly_accession'"
   ]
  },
  {
   "cell_type": "code",
   "execution_count": 12,
   "metadata": {},
   "outputs": [
    {
     "name": "stdout",
     "output_type": "stream",
     "text": [
      "Shannon entropy of the string 'aaabbbbcc' is: 1.5304930567574824\n"
     ]
    }
   ],
   "source": [
    "def shannon_entropy(s):\n",
    "    # Count the frequency of each symbol in the string\n",
    "    frequency = Counter(s)\n",
    "    # Calculate the probability of each symbol\n",
    "    probabilities = [freq / len(s) for freq in frequency.values()]\n",
    "    # Calculate the Shannon entropy\n",
    "    entropy = -sum(p * math.log2(p) for p in probabilities)\n",
    "    return entropy\n",
    "\n",
    "# Example usage\n",
    "string = \"aaabbbbcc\"\n",
    "entropy = shannon_entropy(string)\n",
    "print(f\"Shannon entropy of the string '{string}' is: {entropy}\")"
   ]
  },
  {
   "cell_type": "code",
   "execution_count": 13,
   "metadata": {},
   "outputs": [
    {
     "name": "stdout",
     "output_type": "stream",
     "text": [
      "Analyzing assembly_accession: GCF_900128725.1\n",
      "Analyzing assembly_accession: GCF_017068195.1\n",
      "Excel file created: /Users/celia/Desktop/genomes/test/assembly_summary_with_lengths_and_entropy.xlsx\n"
     ]
    }
   ],
   "source": [
    "# Initialize lists to store new columns\n",
    "lengths = []\n",
    "ents = []\n",
    "\n",
    "# Function to convert DNA sequence to numerical values\n",
    "def dna_to_numerical(dna_seq):\n",
    "    mapping = {'A': 1, 'C': 2, 'G': 3, 'T': 4}\n",
    "    return [mapping[nuc] for nuc in dna_seq if nuc in mapping]\n",
    "\n",
    "# Check if the expected columns exist\n",
    "if assembly_level_col in df.columns and ftp_path_col in df.columns:\n",
    "    # Iterate over each row in the dataframe\n",
    "    for index, row in df.iterrows():\n",
    "        if row[assembly_level_col] == 'Complete Genome':\n",
    "            assembly_accession = row[assembly_accession_col]\n",
    "            ftp_path = row[ftp_path_col]\n",
    "            file_name = ftp_path.split('/')[-1]\n",
    "            gz_file_url = f\"{ftp_path}/{file_name}_genomic.fna.gz\"\n",
    "\n",
    "            # Print assembly_accession to track progress\n",
    "            print(f\"Analyzing assembly_accession: {assembly_accession}\")\n",
    "\n",
    "            # Download the gz file\n",
    "            response = requests.get(gz_file_url, stream=True)\n",
    "            gz_file_path = f\"{file_name}_genomic.fna.gz\"\n",
    "            with open(gz_file_path, 'wb') as file:\n",
    "                for chunk in response.iter_content(chunk_size=8192):\n",
    "                    file.write(chunk)\n",
    "\n",
    "            # Calculate the length of the genome\n",
    "            genome_length = 0\n",
    "            genome_ent = 0\n",
    "            numerical_sequence = []\n",
    "            with gzip.open(gz_file_path, 'rt') as gz_file:\n",
    "                for record in SeqIO.parse(gz_file, 'fasta'):\n",
    "                    genome_length += len(record.seq)\n",
    "                    genome_seq = record.seq\n",
    "                    numerical_sequence.extend(dna_to_numerical(record.seq))\n",
    "                    genome_ent = shannon_entropy(numerical_sequence)\n",
    "            # Clean up the downloaded file\n",
    "            os.remove(gz_file_path)\n",
    "\n",
    "            # Append the calculated values to the lists\n",
    "            lengths.append(genome_length)\n",
    "            ents.append(genome_ent)\n",
    "        else:\n",
    "            # If the row is not \"Complete Genome\", skip it\n",
    "            continue\n",
    "\n",
    "    # Filter the dataframe to only include rows with \"Complete Genome\"\n",
    "    df_complete_genome = df[df[assembly_level_col] == 'Complete Genome'].copy()\n",
    "\n",
    "    # Add the new columns to the filtered dataframe\n",
    "    df_complete_genome['length'] = lengths\n",
    "    df_complete_genome['Shannon'] = ents\n",
    "\n",
    "    # Save the filtered dataframe to an Excel file\n",
    "    output_file_path = '/Users/celia/Desktop/genomes/test/assembly_summary_with_lengths_and_entropy.xlsx'\n",
    "    df_complete_genome.to_excel(output_file_path, index=False)\n",
    "\n",
    "    print(f\"Excel file created: {output_file_path}\")\n",
    "else:\n",
    "    print(f\"Expected columns '{assembly_level_col}' and/or '{ftp_path_col}' not found in the dataframe.\")"
   ]
  },
  {
   "cell_type": "markdown",
   "metadata": {},
   "source": [
    "## Once everything is working, you can download full assembly summary files from NCBI.\n",
    "## For example, for bacteria:\n",
    "\n",
    "## wget ftp://ftp.ncbi.nih.gov/genomes/refseq/bacteria/assembly_summary.txt"
   ]
  }
 ],
 "metadata": {
  "kernelspec": {
   "display_name": ".apen",
   "language": "python",
   "name": "python3"
  },
  "language_info": {
   "codemirror_mode": {
    "name": "ipython",
    "version": 3
   },
   "file_extension": ".py",
   "mimetype": "text/x-python",
   "name": "python",
   "nbconvert_exporter": "python",
   "pygments_lexer": "ipython3",
   "version": "3.11.7"
  }
 },
 "nbformat": 4,
 "nbformat_minor": 2
}
