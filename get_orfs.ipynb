{
 "cells": [
  {
   "cell_type": "code",
   "execution_count": 1,
   "id": "5c491361-eca6-40b4-b6e7-24e32f8e51e8",
   "metadata": {},
   "outputs": [],
   "source": [
    "import re\n",
    "import glob\n",
    "import pandas as pd\n",
    "from tqdm import tqdm\n",
    "from Bio import SeqIO"
   ]
  },
  {
   "cell_type": "code",
   "execution_count": 2,
   "id": "90a12b11-ddd2-4a00-840c-1fccaf08cae1",
   "metadata": {},
   "outputs": [],
   "source": [
    "fnas = glob.glob('GCF_files/*.fna')"
   ]
  },
  {
   "cell_type": "code",
   "execution_count": 3,
   "id": "8de70b9a-1094-46d5-86d7-19ab17038530",
   "metadata": {},
   "outputs": [
    {
     "name": "stderr",
     "output_type": "stream",
     "text": [
      "100%|█████████████████████████████████████████████████████████████████████████████████████████████████████████████████████| 1/1 [00:00<00:00, 1766.77it/s]\n"
     ]
    },
    {
     "name": "stdout",
     "output_type": "stream",
     "text": [
      "GCF_files/GCF_000839085.1_ViralProj14152_genomic.fna success!\n"
     ]
    },
    {
     "name": "stderr",
     "output_type": "stream",
     "text": [
      "100%|█████████████████████████████████████████████████████████████████████████████████████████████████████████████████████| 24/24 [01:08<00:00,  2.85s/it]\n"
     ]
    },
    {
     "name": "stdout",
     "output_type": "stream",
     "text": [
      "GCF_files/GCF_022458985.1_CIBA_Mcephalus_1.1_genomic.fna success!\n"
     ]
    },
    {
     "name": "stderr",
     "output_type": "stream",
     "text": [
      "100%|█████████████████████████████████████████████████████████████████████████████████████████████████████████████████████| 21/21 [00:03<00:00,  6.34it/s]\n"
     ]
    },
    {
     "name": "stdout",
     "output_type": "stream",
     "text": [
      "GCF_files/GCF_000092065.1_ASM9206v1_genomic.fna success!\n"
     ]
    },
    {
     "name": "stderr",
     "output_type": "stream",
     "text": [
      "100%|███████████████████████████████████████████████████████████████████████████████████████████████████████████████████████| 6/6 [00:01<00:00,  3.64it/s]\n"
     ]
    },
    {
     "name": "stdout",
     "output_type": "stream",
     "text": [
      "GCF_files/GCF_000740895.1_ASM74089v1_genomic.fna success!\n"
     ]
    },
    {
     "name": "stderr",
     "output_type": "stream",
     "text": [
      "100%|█████████████████████████████████████████████████████████████████████████████████████████████████████████████████████| 26/26 [05:24<00:00, 12.50s/it]\n"
     ]
    },
    {
     "name": "stdout",
     "output_type": "stream",
     "text": [
      "GCF_files/GCF_019923935.1_NDDB_SH_1_genomic.fna success!\n"
     ]
    },
    {
     "name": "stderr",
     "output_type": "stream",
     "text": [
      "100%|█████████████████████████████████████████████████████████████████████████████████████████████████████████████████████| 10/10 [00:02<00:00,  4.79it/s]\n"
     ]
    },
    {
     "name": "stdout",
     "output_type": "stream",
     "text": [
      "GCF_files/GCF_003290485.1_ASM329048v1_genomic.fna success!\n"
     ]
    },
    {
     "name": "stderr",
     "output_type": "stream",
     "text": [
      "100%|███████████████████████████████████████████████████████████████████████████████████████████████████████████████████████| 7/7 [00:10<00:00,  1.48s/it]\n"
     ]
    },
    {
     "name": "stdout",
     "output_type": "stream",
     "text": [
      "GCF_files/GCF_000002985.6_WBcel235_genomic.fna success!\n"
     ]
    },
    {
     "name": "stderr",
     "output_type": "stream",
     "text": [
      "100%|███████████████████████████████████████████████████████████████████████████████████████████████████████████████████████| 1/1 [00:00<00:00, 10.45it/s]\n"
     ]
    },
    {
     "name": "stdout",
     "output_type": "stream",
     "text": [
      "GCF_files/GCF_023169545.1_ASM2316954v1_genomic.fna success!\n"
     ]
    },
    {
     "name": "stderr",
     "output_type": "stream",
     "text": [
      "100%|███████████████████████████████████████████████████████████████████████████████████████████████████████████████████████| 1/1 [00:00<00:00, 51.51it/s]"
     ]
    },
    {
     "name": "stdout",
     "output_type": "stream",
     "text": [
      "GCF_files/GCF_016889585.1_ASM1688958v1_genomic.fna success!\n",
      "CPU times: user 6min 16s, sys: 18.8 s, total: 6min 35s\n",
      "Wall time: 7min 3s\n"
     ]
    },
    {
     "name": "stderr",
     "output_type": "stream",
     "text": [
      "\n"
     ]
    }
   ],
   "source": [
    "%%time\n",
    "import re\n",
    "from tqdm import tqdm\n",
    "\n",
    "def revcomp(seq):\n",
    "    # reverses sequence\n",
    "    for a,b in [('A','t'),\n",
    "        ('T','a'),\n",
    "        ('G','c'),\n",
    "        ('C','g')]:\n",
    "        seq = seq.replace(a,b)\n",
    "    return seq[::-1].upper()\n",
    "\n",
    "def get_orfs(dna):\n",
    "    # finds orfs in sequence\n",
    "    pattern = re.compile(r'(?=(ATG(?:...)*?)(?=TAG|TGA|TAA))')\n",
    "    return pattern.findall(dna) + pattern.findall(revcomp(dna))\n",
    "\n",
    "\n",
    "def get_open_reading_frames(file_name,length_cutoff=1000):\n",
    "    # inputs: fasta file\n",
    "    # outputs: list of orfs\n",
    "    orfs=[]\n",
    "    with open(file_name, \"r\") as handle:\n",
    "        records = list(SeqIO.parse(handle, \"fasta\"))\n",
    "    for record in tqdm(records):\n",
    "        seq = str(record.seq).upper()\n",
    "        orfs+= get_orfs(seq)\n",
    "        orfs = [i for i in orfs if len(i)>length_cutoff]\n",
    "    return orfs\n",
    "\n",
    "org2orf={}\n",
    "for file_name in fnas:\n",
    "    try:\n",
    "        orfs=get_open_reading_frames(file_name)\n",
    "        org2orf[file_name] = orfs\n",
    "        print(file_name,'success!')\n",
    "    except Exception as e:\n",
    "        print(file_name,e)"
   ]
  },
  {
   "cell_type": "code",
   "execution_count": null,
   "id": "bf6c86b6-d1cc-490b-957b-be331b2352db",
   "metadata": {},
   "outputs": [],
   "source": []
  },
  {
   "cell_type": "code",
   "execution_count": null,
   "id": "2aadf1ee-4c92-4f6d-9383-40d488b2b368",
   "metadata": {},
   "outputs": [],
   "source": []
  }
 ],
 "metadata": {
  "kernelspec": {
   "display_name": "venv2",
   "language": "python",
   "name": "venv2"
  },
  "language_info": {
   "codemirror_mode": {
    "name": "ipython",
    "version": 3
   },
   "file_extension": ".py",
   "mimetype": "text/x-python",
   "name": "python",
   "nbconvert_exporter": "python",
   "pygments_lexer": "ipython3",
   "version": "3.10.5"
  }
 },
 "nbformat": 4,
 "nbformat_minor": 5
}
