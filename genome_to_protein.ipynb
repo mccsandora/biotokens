{
 "cells": [
  {
   "cell_type": "code",
   "execution_count": 6,
   "id": "5221b5c5-6e64-4bd0-8875-d21990c8423e",
   "metadata": {},
   "outputs": [],
   "source": [
    "import pandas as pd\n",
    "import Bio"
   ]
  },
  {
   "cell_type": "code",
   "execution_count": 8,
   "id": "5b0c49d4-a651-4693-a54f-c2f4b6bdbfa9",
   "metadata": {},
   "outputs": [],
   "source": [
    "df=pd.read_csv('GCF_000441575.1_ASM44157v1_genomic.fna')\n",
    "\n",
    "merged_text= ' '.join(df['>NC_021894.1 Candidatus Carsonella ruddii DC'])\n",
    "genome_file_path='Candidatus_Carsonella_ruddii_DC.txt'\n",
    "\n",
    "with open(genome_file_path, 'w') as file:\n",
    "  file.write(merged_text)\n",
    "\n",
    "with open(genome_file_path, 'r') as file:\n",
    "    genome=file.read()"
   ]
  },
  {
   "cell_type": "code",
   "execution_count": 16,
   "id": "ab8586b0-a335-4561-9238-cc0aac67ec9e",
   "metadata": {},
   "outputs": [],
   "source": [
    "from Bio.Seq import Seq\n",
    "from Bio import SeqIO\n",
    "#function to transcribe dna to mRNA\n",
    "def genome_to_mRNA(genome):\n",
    "    dna=Seq(genome)\n",
    "    protein=dna.transcribe()\n",
    "    return protein\n",
    "\n",
    "#function to translate dna to amino acids\n",
    "def genome_to_aa(genome):\n",
    "    genome=genome.replace(\" \",\"\")\n",
    "    dna=Seq(genome)\n",
    "    amino_acids=dna.translate()\n",
    "    return amino_acids\n"
   ]
  },
  {
   "cell_type": "code",
   "execution_count": 28,
   "id": "2773a6e8-26f8-40da-a493-e733cfdd7817",
   "metadata": {},
   "outputs": [],
   "source": [
    "mRNA=genome_to_mRNA(genome)\n",
    "mRNA_file_path='mRNA.txt'\n",
    "with open(mRNA_file_path, 'w') as file:\n",
    "    file.write(str(mRNA))\n"
   ]
  },
  {
   "cell_type": "code",
   "execution_count": 29,
   "id": "2eb4e110-c98a-4ff6-a798-79628f8f82d9",
   "metadata": {},
   "outputs": [],
   "source": [
    "aa=genome_to_aa(genome)\n",
    "aa_file_path='amino_acids.txt'\n",
    "with open(aa_file_path, 'w') as file:\n",
    "    file.write(str(aa))"
   ]
  },
  {
   "cell_type": "code",
   "execution_count": 7,
   "id": "feaa357a-85a5-41a1-9593-f57819ef45c7",
   "metadata": {},
   "outputs": [],
   "source": [
    "from Bio import SeqIO\n",
    "#function that returns open reading frames\n",
    "def open_reading_frame(file_name,file_type):\n",
    "    record = SeqIO.read(file_name, file_type)\n",
    "    min_pro_len = 100\n",
    "    results = []\n",
    "    for strand, nuc in [(+1, record.seq), (-1, record.seq.reverse_complement())]:\n",
    "         for frame in range(3):\n",
    "             length = 3 * ((len(record) - frame) // 3)  \n",
    "             for pro in nuc[frame : frame + length].split(\"*\"):\n",
    "                 if len(pro) >= min_pro_len:\n",
    "                     result=(\n",
    "                         \"%s...%s - length %i, strand %i, frame %i  \"\n",
    "                         % (pro[:30], pro[-3:], len(pro), strand, frame)\n",
    "                     )\n",
    "                     results.append(result)\n",
    "    return results\n",
    "\n",
    "#function that returns transcribed open reading frames into mRNA\n",
    "def orf_transcribed(file_name,file_type):\n",
    "    record = SeqIO.read(file_name, file_type)\n",
    "    min_pro_len = 100\n",
    "    results = []\n",
    "    for strand, nuc in [(+1, record.seq), (-1, record.seq.reverse_complement())]:\n",
    "         for frame in range(3):\n",
    "             length = 3 * ((len(record) - frame) // 3)  \n",
    "             for pro in nuc[frame : frame + length].transcribe().split(\"*\"):\n",
    "                 if len(pro) >= min_pro_len:\n",
    "                     result=(\n",
    "                         \"%s...%s - length %i, strand %i, frame %i  \"\n",
    "                         % (pro[:30], pro[-3:], len(pro), strand, frame)\n",
    "                     )\n",
    "                     results.append(result)\n",
    "    return results\n",
    "\n",
    "#function that returns translated open reading frames into amino avids\n",
    "def orf_translated(file_name,file_type):\n",
    "    record = SeqIO.read(file_name, file_type)\n",
    "    min_pro_len = 100\n",
    "    results = []\n",
    "    for strand, nuc in [(+1, record.seq), (-1, record.seq.reverse_complement())]:\n",
    "         for frame in range(3):\n",
    "             length = 3 * ((len(record) - frame) // 3)  \n",
    "             for pro in nuc[frame : frame + length].translate().split(\"*\"):\n",
    "                 if len(pro) >= min_pro_len:\n",
    "                     result= (\n",
    "                         \"%s...%s - length %i, strand %i, frame %i  \"\n",
    "                         % (pro[:30], pro[-3:], len(pro), strand, frame)\n",
    "                     )\n",
    "                     results.append(result)\n",
    "    return results\n",
    "                     \n",
    "\n",
    "#tokenize before defining open reading frames\n",
    "#understand entropy"
   ]
  },
  {
   "cell_type": "code",
   "execution_count": 10,
   "id": "4576c6c2-782c-4024-9660-822aee4a443b",
   "metadata": {},
   "outputs": [
    {
     "name": "stdout",
     "output_type": "stream",
     "text": [
      "['ATGAAAAATATTATTGTTGCAAAAGTTACT...TAA - length 174012, strand 1, frame 0  ', 'TGAAAAATATTATTGTTGCAAAAGTTACTC...AAA - length 174012, strand 1, frame 1  ', 'GAAAAATATTATTGTTGCAAAAGTTACTCC...AAA - length 174012, strand 1, frame 2  ', 'TTTTATTTAAAAAAAAAAATTCCACTTGCC...TTC - length 174012, strand -1, frame 0  ', 'TTTATTTAAAAAAAAAAATTCCACTTGCCG...TCA - length 174012, strand -1, frame 1  ', 'TTATTTAAAAAAAAAAATTCCACTTGCCGA...CAT - length 174012, strand -1, frame 2  ']\n",
      "\n",
      "\n",
      "['AUGAAAAAUAUUAUUGUUGCAAAAGUUACU...UAA - length 174012, strand 1, frame 0  ', 'UGAAAAAUAUUAUUGUUGCAAAAGUUACUC...AAA - length 174012, strand 1, frame 1  ', 'GAAAAAUAUUAUUGUUGCAAAAGUUACUCC...AAA - length 174012, strand 1, frame 2  ', 'UUUUAUUUAAAAAAAAAAAUUCCACUUGCC...UUC - length 174012, strand -1, frame 0  ', 'UUUAUUUAAAAAAAAAAAUUCCACUUGCCG...UCA - length 174012, strand -1, frame 1  ', 'UUAUUUAAAAAAAAAAAUUCCACUUGCCGA...CAU - length 174012, strand -1, frame 2  ']\n",
      "\n",
      "\n",
      "['MKNIIVAKVTPDDLTSICIIRLSGKKLRKF...MGK - length 443, strand 1, frame 0  ', 'CLSIMDILKNIYLNFEKILDNNFFKIDLLI...LKH - length 234, strand 1, frame 0  ', 'IKIMNINFTILNEIISFMVFFVFSCIFVFP...NYD - length 154, strand 1, frame 0  ', 'PPMIGRIIQILGSILDIEFKKKNTPKIYNA...GKI - length 449, strand 1, frame 0  ', 'FVIIMNFYNKHLLSDFNLKKYELLTILELK...KVL - length 299, strand 1, frame 0  ', 'MNNFTHLNVHTEYSFVDSIIKTGQLINIYK...CSK - length 1111, strand 1, frame 0  ', 'KVLIKNMKIFLKKSNFIIGDSCSGKTFLYK...KIL - length 152, strand 1, frame 0  ', 'KNIMKSNLITKWPEKAANRSMLRAVGYKQE...NYE - length 551, strand 1, frame 0  ', 'IIKIMNLSIIGLQWGDEGKGKIVDLLTNYC...VFL - length 405, strand 1, frame 0  ', 'YIIMFINFVYNKKKNFFLLKKYYHKNIYKK...KKI - length 276, strand 1, frame 0  ', 'KHIVMIKLKVKKIFLKKKINSNYLMFKFSI...IQL - length 292, strand 1, frame 0  ', 'TTKYNIWFNNFHMNNELILEIRQGIGGAES...FKN - length 242, strand 1, frame 0  ', 'DEYGTIPYLDNKPFVGLYPTTPQYEEGVLI...AFL - length 150, strand 1, frame 0  ', 'NMKYVSFSKKKTCKTKVVIFEGCGLLTINN...SKR - length 127, strand 1, frame 0  ', 'YIIRLMINKHITLLPNKFKKNINCVDLTFG...KNS - length 195, strand 1, frame 0  ', 'YTMKSYFKINCIKIKKKKIKTGDKSLSHRG...VYK - length 410, strand 1, frame 0  ', 'KKFKCKRCKCNYIALFIIMNYHIYIVLKIF...LYD - length 172, strand 1, frame 0  ', 'KKKKNMSKIIGIDLGTTNSCVAVLNNGKPQ...IKK - length 606, strand 1, frame 0  ', 'LLLLNIIKIYMKNKILVLGAGPIIVGQACE...NNI - length 975, strand 1, frame 0  ', 'EGNGIFHTGSTPVFGKKNMNNFYIEEKITL...VNK - length 535, strand 1, frame 0  ', 'KKYIFNKKIFMIFFKLIFKKIIGFFSIQKI...LYD - length 319, strand 1, frame 0  ', 'VEYWFVAPFVKGSNPFIYPNYFIEKKMIYI...FKK - length 218, strand 1, frame 0  ', 'LMFFLIFPHFFFFFFLFYKKPNFMICYSKK...FIQ - length 365, strand 1, frame 0  ', 'LYLIKNYKSYLKMLNWNCNYICKSPIWVSE...KNE - length 464, strand 1, frame 0  ', 'MKLISNFLYIDIDNVDTDIIIPKQFLNTLK...KNV - length 184, strand 1, frame 0  ', 'FKKMKNFLIKIRYGIFNKKISLFLKKIIKK...YDK - length 249, strand 1, frame 0  ', 'FFMLNKKIKPFKSIAYYANKFYEINENKIK...III - length 177, strand 1, frame 0  ', 'NCGLYPLKKGVCRPPSSLDKIYTSHSNILY...VPN - length 148, strand 1, frame 0  ', 'TQKMIFNKIYHIFLIFFKIYINNYVKVVNI...EKF - length 252, strand 1, frame 0  ', 'SSMNKLWGGRFLKSLDFNIELYLKSFDIDK...KFK - length 460, strand 1, frame 0  ', 'IIMNKFFKIHASGNNFLVIFNKKSFVVLNK...GFI - length 251, strand 1, frame 0  ', 'LMNIKEMKVQINILTNINKITNTMSMISFS...NHL - length 251, strand 1, frame 1  ', 'FHKITKKSETPKGIPGCPEFAFCIDLIHIN...NKL - length 584, strand 1, frame 1  ', 'NIKLFINDKTFAFTIIYFFFIIKNIFIPDV...FIQ - length 189, strand 1, frame 1  ', 'SNMLNIDLIIKVKKEFNFSIGDCKKMLEKN...YYE - length 210, strand 1, frame 1  ', 'IMNKIILILLKICFVVSLINNLSYIILKKK...YFI - length 328, strand 1, frame 1  ', 'FFYYMIKIINLSIMCENFYIFKKINFFIKK...SCL - length 225, strand 1, frame 1  ', 'CFHGFESHYLLKSISFKISFILITPDIIFL...YIL - length 110, strand 1, frame 1  ', 'KTTFNKMILFLDNYDSFSNNILKKINFKNL...ILL - length 179, strand 1, frame 1  ', 'YLMILISVPKGRNFFFSLNILKYIRIFIIK...NQK - length 183, strand 1, frame 1  ', 'NGEIFFSFFFINYKKMILINCKKKILGRIS...YKI - length 113, strand 1, frame 1  ', 'ILFMLKKILKSKILFNLLKTICYKKKKNVF...NIL - length 253, strand 1, frame 1  ', 'VISQILKYQIQKIFYPHFHLFLIYLIIKKI...RIY - length 406, strand 1, frame 1  ', 'SEDDSLICFLMLFICSFIIFSLPFPPTITV...INT - length 140, strand 1, frame 1  ', 'YLLICIIIYNFRKILKSLKKIIKLNNYFFI...YLL - length 192, strand 1, frame 1  ', 'ALFLIILFHTLKKLTFCMIKNISSINSEFI...LQI - length 400, strand 1, frame 1  ', 'IWYKIIFKIFKNMIINFLLKNKNLNFLLKK...LLE - length 368, strand 1, frame 1  ', 'MLILESGLIMNSKIINFKNSYGELVFNISN...YYD - length 150, strand 1, frame 1  ', 'TLKLNYMTNFFLFCKKKILRFPPEPKGFLH...LLK - length 394, strand 1, frame 1  ', 'TMCYLKNKFNINFLEYLNPESIKMELDRHI...IFN - length 358, strand 1, frame 1  ', 'FIYLIGKMVEWFNTSVLKTEKVNTFQGSNP...FLI - length 220, strand 1, frame 1  ', 'LKMNNSYGEIIKITTFGESHGLLIGAIIDG...IYE - length 347, strand 1, frame 1  ', 'KMFNIIILPGDGIGPEITKQVVKILKTCCF...LND - length 349, strand 1, frame 1  ', 'NIDKFYFMKIKFCGINSKIDLKKSILSNCN...MIS - length 192, strand 1, frame 1  ', 'FMFIKISEILRKKINIKTLNKLKNIEKKNK...LKW - length 338, strand 1, frame 1  ', 'NLKYMINSIKKIKTKIKNTKNIYNLLLKIG...YIK - length 127, strand 1, frame 1  ', 'KIKSMKYFKNPIFIEKKIIKKIKQIKKQKF...KKL - length 516, strand 1, frame 1  ', 'TQLKGFKKILCCIYYNKICLLSTFIIKYFK...NEI - length 462, strand 1, frame 1  ', 'FFIKNIFYNFHTNSLDNENNLLKWFNFISL...KLF - length 149, strand 1, frame 1  ', 'KPYLDVITILIFSFSKCKILTTPSISLNKA...VLS - length 104, strand 1, frame 1  ', 'LFIVKPIFKLSKIGLTIISPFDFEKNPLND...KSQ - length 105, strand 1, frame 1  ', 'YNFKLGPTEITVLPEKSTLFPKRFCLNLPY...PDK - length 136, strand 1, frame 1  ', 'IILKSIFFMKNFEYKKIKFRYVKIWSNKWN...WIF - length 317, strand 1, frame 1  ', 'FLYGEIMIYNVIVIGSGHAGIEAVCVSSKI...FKF - length 508, strand 1, frame 2  ', 'KYYINNMKKYGIINKIYDGIVEVIGLKLAK...GSL - length 487, strand 1, frame 2  ', 'MKTISFEIFPEKDTKKSIEFIKFLEKKNPN...YLK - length 239, strand 1, frame 2  ', 'KRMNIKIFHLLSKFVYLGDIRKNRNNFLRN...QIC - length 219, strand 1, frame 2  ', 'INMEIIFITNKIKNIESIVVNYVNEYKNFN...LNE - length 183, strand 1, frame 2  ', 'KNYFKFKVFRCKKFFLFFLLKMKNLFVLKK...RFY - length 182, strand 1, frame 2  ', 'ILIFKKMEIFGLGSPNIGKYRELKKYTEKY...IFF - length 696, strand 1, frame 2  ', 'KISHISFIKKYLLKQFLLILYLLKQINNSD...KKK - length 131, strand 1, frame 2  ', 'KNFMILIKSKKKNLINIYIDKSYKINKLLM...YEI - length 341, strand 1, frame 2  ', 'KLFFILYKFIMNKNFYNFLDLLKIESIKQE...IYK - length 411, strand 1, frame 2  ', 'ARCGFFMKNYNYYSLINSYQIEENLCENLI...SII - length 455, strand 1, frame 2  ', 'FFYKKNLVMFLFLKRFKKYIYFDNSSTNQK...RNY - length 389, strand 1, frame 2  ', 'NFFFIKNRNINVIFNKINNNIFSHNAVTNY...LIK - length 446, strand 1, frame 2  ', 'NSVMNKILIKKKNYKNFFNIIIKNLNYKKN...LLN - length 249, strand 1, frame 2  ', 'LIMLKIKNNILLFKKKTINIKDKVKTIIKD...IRK - length 415, strand 1, frame 2  ', 'ILFLKMNILNFYKFKKNIGQNYSIFNLKFV...KKI - length 184, strand 1, frame 2  ', 'KKKQNNKKRKSEIIKNFKMNIKCPFHNDNN...LKI - length 273, strand 1, frame 2  ', 'FIHMEKEYSLMNFLDRIIILEEKFCSFVLE...VYN - length 153, strand 1, frame 2  ', 'MIKIFVFGITGKMGKSILNYIKLNKNFILI...FKC - length 232, strand 1, frame 2  ', 'IIKKYIMINILLINFGCKLGMFKLLIKNNY...YEK - length 189, strand 1, frame 2  ', 'IYIYFFFFKLFYSMRKFFLFYDIVKKIKKI...DII - length 434, strand 1, frame 2  ', 'KKKYMNNTLYDNIIKNHIVKIYDDLYLLYV...INF - length 458, strand 1, frame 2  ', 'MIKLGIIGWRGLVGSVFLNRIKNSFINKYC...FIL - length 342, strand 1, frame 2  ', 'QSFKIYYSKHKCFIFILKKLLILKILFFSK...YDN - length 467, strand 1, frame 2  ', 'KKKNYKNLINIKNILNIKKIHNIISFVNKI...LLN - length 122, strand 1, frame 2  ', 'FSNGFEKKKKKSYYNTILYILFYLKKQVSI...FSL - length 497, strand 1, frame 2  ', 'TFNSFQMIKIHNFCFKKHFLIILPPPNITG...KTI - length 630, strand 1, frame 2  ', 'SPYSAVLEIEYLMFFKPPSYIKSTINFISC...DLL - length 102, strand 1, frame 2  ', 'INMLLKIIEINDKRIRIKSCNLIKFNKIKI...FYE - length 156, strand 1, frame 2  ', 'MIEFTNNIVVNKISIKNIFKQINSFYLYDY...NYE - length 397, strand 1, frame 2  ', 'YYNLWKYKFLLFWFYMNIKNKIFSFWKRKN...LLK - length 222, strand 1, frame 2  ', 'LKNIMIFIIIKKIFKKNFFFKNKCYLIKKK...KLI - length 186, strand 1, frame 2  ', 'TNSILYASLKKYLIVLETNFIFFVLILLIK...LKI - length 116, strand -1, frame 0  ', 'KKMNRLNFNVIPTNEFIIIILFSIIIVLIL...IYE - length 603, strand -1, frame 0  ', 'QYNFFYFLAFYTYYLVMSCFNYLYKEIILL...FKK - length 107, strand -1, frame 0  ', 'IMIIKCKLKLILKPQKATPTPPIAPILGQY...NYE - length 138, strand -1, frame 0  ', 'YIHRKNIYKYYYEQKLFNKMNQFYNIYKNL...RIS - length 163, strand -1, frame 0  ', 'MNSFLKFNRYCLSKKSFFHKCYKTFLIHIQ...KII - length 1266, strand -1, frame 0  ', 'NIMLLEMYMIYLVLQIEKNLDQNTELKMSR...FKL - length 183, strand -1, frame 0  ', 'KKNMAKVKFTRNKIHINVGTIGHVDHGKTT...KIL - length 399, strand -1, frame 0  ', 'NFMKFPIISINPKYCIIFKKDINIDFLYNF...IFK - length 173, strand -1, frame 0  ', 'LFKYIEKNRISNRIKMAKKGLILKNIFIYK...SSW - length 111, strand -1, frame 0  ', 'HMKLYNKNYGIIYINSSFNNTISTLTDKKG...RRV - length 120, strand -1, frame 0  ', 'KMFIVKQFLIKSGNGGDGIISYEIRSGKFY...KSS - length 259, strand -1, frame 0  ', 'FFKMKLSASSILINSLLNNNIEFIFGYPGG...FSK - length 561, strand -1, frame 0  ', 'SCIMFYNSIKNKLNIKNFIDIFFSNLSKDK...KNV - length 438, strand -1, frame 0  ', 'FFRNMIINLKNYKIFFGKITRIKNFFIEIK...KIV - length 384, strand -1, frame 0  ', 'RRKIMILLGINSSGLIHYGNYISIIKPVMY...INL - length 297, strand -1, frame 0  ', 'FIMIYPNKFGLFNVFGGKYLPELLQPLINS...KDL - length 381, strand -1, frame 0  ', 'KMFFKTKIMNFDHLKRVECLSTGSLYIDYI...KYD - length 301, strand -1, frame 0  ', 'NYKKQLYMIIVQKFGGTSVGSKQRIKFLKN...RVA - length 422, strand -1, frame 0  ', 'TLLIGFITQWLEYRTHNPLVVGSSPTKPIM...EFI - length 354, strand -1, frame 0  ', 'YKYKTFMFRIVNFKRLLVDLKNQIINIKKL...IYN - length 314, strand -1, frame 0  ', 'LFINIVMFKIFKNEFKDNNFLSKTQFNNHQ...LNI - length 208, strand -1, frame 0  ', 'IKNNLHIIKNNFLNNLKIKNFYKKEHNNIN...VYD - length 233, strand -1, frame 0  ', 'YMKRYIFLDVETTGLSPHKGDRVIEIGCVE...EYN - length 188, strand -1, frame 0  ', 'EFTMIPSYKLLKFLKKLKEFKDWQIKFFTP...FLL - length 118, strand -1, frame 0  ', 'AIPLPKPPNVKDGLIIQGNSINFIFLILFF...CSI - length 114, strand -1, frame 0  ', 'RGFFFYFLIIFSLIFNKSSFPFLINSISSP...DLF - length 157, strand -1, frame 0  ', 'RVFFFHMYKLSKVTLDKYYFIKSFISGIKL...ERC - length 116, strand -1, frame 0  ', 'FNKRIYMNVLLINYGTSNITSIYNSLKKTK...LEL - length 206, strand -1, frame 0  ', 'IFKSIIFKKIFKIYMIYFPGKRYYFGYKLN...LWS - length 325, strand -1, frame 0  ', 'TNMNQLCKLGIKKIIFLIKTKQISNYELTK...VYN - length 453, strand -1, frame 0  ', 'KNMKFKYKIKLFVRNNNNSKILKGTFINKN...FKI - length 150, strand -1, frame 0  ', 'FEFFKKQYFIMRNHLGIIGYGIMAKNIIIN...KYI - length 441, strand -1, frame 0  ', 'YIDYNMKVLLNSGGKDSNYFSFKHNFLNIF...KMY - length 297, strand -1, frame 0  ', 'LLFTNFKLFLKVLPVIVIQSPFKIPISNKN...LTD - length 135, strand -1, frame 0  ', 'QMKNFYIHSFLKSGYFNSFIISLISNYKSK...NEL - length 234, strand -1, frame 0  ', 'LNFKIFLICLIKKSFSNNIVCISLVFFTSI...IFI - length 115, strand -1, frame 0  ', 'DLLIFFIIPIFSIKFFVFIFKPAVSFKLIV...SLL - length 158, strand -1, frame 0  ', 'YMNKNLLGFWLYIVSDCITFSILFILFLST...IKK - length 168, strand -1, frame 1  ', 'IMNNLDLFIKYCLENKFNFCESIDLSILFN...LIK - length 191, strand -1, frame 1  ', 'FLFSKNMQNELVNNILESISKLNLLELSDL...EIK - length 120, strand -1, frame 1  ', 'IKLYIFMIFVNKGIKLFFYKKKLILLNIIK...KIL - length 142, strand -1, frame 1  ', 'LYCKKIFKYKFKCFYMGKKVNPIFFRLGKS...FKK - length 215, strand -1, frame 1  ', 'ISMKIIENIFNEKLFENNIKSCLEKIIIHT...PIE - length 166, strand -1, frame 1  ', 'TNRYFWYFFIIDIMKYIKLNNEIILIKNKY...KKQ - length 180, strand -1, frame 1  ', 'MKKDRIFFLNKISFKKISVFRNLIKIEFFN...IQY - length 320, strand -1, frame 1  ', 'IILDMIASFYVGNKIYFSKENNYIILDYIN...III - length 103, strand -1, frame 1  ', 'IKMNFPKKKYLIKANLKNINLVKKTINNFF...FYV - length 818, strand -1, frame 1  ', 'NFMYKITIKYYDKNIIIINKPVGIEVDKII...FLR - length 203, strand -1, frame 1  ', 'FKKKMFILFNYMKNLCVNLYLFFQLLNMKK...FIL - length 161, strand -1, frame 1  ', 'MFYDKDCDIKILQNKIITVVGYGSQGHAQA...IVN - length 331, strand -1, frame 1  ', 'FNFFKNKKMNYSIFGLGNVGSKVYTILIKK...KVV - length 383, strand -1, frame 1  ', 'KKMYKLIKENVYFKNILEKKFFIVNELSFN...LEI - length 271, strand -1, frame 1  ', 'KYMNLLEFLKKNTKISIDSADLKFVKKHKF...NIK - length 301, strand -1, frame 1  ', 'NMINFLKYYNFYNYKIIGNQNIVSTNKSLL...NYI - length 331, strand -1, frame 1  ', 'RSIFIIVGSNPTFSIFVFVTHRIEFLITNQ...EKE - length 132, strand -1, frame 1  ', 'NLKNMNLYEYEAKTLLNIFNIPILNSYFTK...SYV - length 351, strand -1, frame 1  ', 'MEFIINNISIIAHVDHGKTTLLNYLINFCK...SNI - length 552, strand -1, frame 1  ', 'KNMARSSKSLQIKKRKKYTNFTKGFFGRKK...TTF - length 106, strand -1, frame 1  ', 'KKYMINFSFLKKVKNNFLISFFKNFFYFFE...INI - length 411, strand -1, frame 1  ', 'KILMNIIKIYNYLMYFTDSCYNYLFNNKKK...LNE - length 183, strand -1, frame 1  ', 'EIYKYNYNSNLTFLNMIYNFLLNIISKYYL...LNE - length 1029, strand -1, frame 1  ', 'YMELYQFRRKTLESDVEIKLNYFGFGIFKI...GYI - length 181, strand -1, frame 1  ', 'INYKNKKCMIRIISCFDVKNNMVVKGVNFR...KFI - length 251, strand -1, frame 1  ', 'ICQYYTNRLILKIMFIINKYYKIYIGCEIH...FNF - length 371, strand -1, frame 1  ', 'LDNKKYFLLQIQKKKIFSMIKKIINLIKKK...NFR - length 123, strand -1, frame 1  ', 'NFTYKLMLFNFYKFLLFFLNKKTLSYCKEI...GIR - length 355, strand -1, frame 1  ', 'KNSYQNMYLFNKNIKILIINGPNLNILKER...KCL - length 153, strand -1, frame 1  ', 'PMHTYIQITFLFFWLIIVSIAIVVFPVCLS...LFI - length 178, strand -1, frame 1  ', 'FTMNDIKTINYLNKKKLFCIFNKKYDFSIN...GYI - length 227, strand -1, frame 2  ', 'KNMINFVKNHFLSLNRILENRLLLNTIYLI...KNE - length 256, strand -1, frame 2  ', 'IISNFSKRNKIIVFRFKNYMINKLFKKIAI...IYN - length 1310, strand -1, frame 2  ', 'KNNMTINQIIRFGRIKNKKKKKTPALMCSP...KNV - length 124, strand -1, frame 2  ', 'IMKNKVLYFRNIGIIAHVDAGKTTTTERIL...KIK - length 679, strand -1, frame 2  ', 'RRWKNCRSWYYYKNFMIKIILKSFFIIEIN...TFL - length 113, strand -1, frame 2  ', 'MNFFKKKLLIIKKNNSGRSNGKISVRHIGK...TKK - length 233, strand -1, frame 2  ', 'KIKKMLNNFKFKNIPISFKKIYYYSKKLSN...VKK - length 109, strand -1, frame 2  ', 'KHGFLKNKNMKSKPNQLKFLKYQKKRNKGI...CYE - length 144, strand -1, frame 2  ', 'NNFLDINKSCRKNKNNMIREQTLVKVIDNS...ELV - length 138, strand -1, frame 2  ', 'KNRKLWKYSWYGKIQLVTMKNYFDSVNRIF...SIL - length 139, strand -1, frame 2  ', 'LYKFNKMEDRLVKIHRVTKVVKGGRIFSYT...FLK - length 144, strand -1, frame 2  ', 'TKTIMNLNICGVNISKKKNILYGLTKIYGI...EII - length 122, strand -1, frame 2  ', 'KKKKETSIMKIIKNKYCRREGENLEFFAEK...IYK - length 201, strand -1, frame 2  ', 'KIIYVIKKKVCCFVKKLLFKIMAQKKAGGS...VYR - length 106, strand -1, frame 2  ', 'RSSDYEPDELPTALHRKYKFIYFEIFLFKL...LIK - length 108, strand -1, frame 2  ', 'THKKNRMKYIEYLVSLNYYITNNNIFSNKI...RIK - length 121, strand -1, frame 2  ', 'SDNSVWKGYRSTDKRYSGDNRLILPKSSYR...IAG - length 109, strand -1, frame 2  ', 'RSMKKIICFIPLNYPNNVFFNYFINNIIKY...KNI - length 245, strand -1, frame 2  ', 'YMTFLELKLVFLNKTKYIILYYNNFFFSFF...SDR - length 107, strand -1, frame 2  ', 'AKMKKIVAIITPYKKNGKINWLGLTFLINF...SQI - length 260, strand -1, frame 2  ', 'YFHFYFVNMLKKKIVLAYSGGLDTSVIVKW...LTI - length 399, strand -1, frame 2  ', 'LYHMFNFKILSCGLTGNFGIFHTKISLKYG...LIK - length 277, strand -1, frame 2  ', 'KMNFLIYRIAASIGAFIVESNLFTLFYNHF...ILV - length 155, strand -1, frame 2  ', 'ISKLSFKYLMSKKSVFFNSINSKKILLNTF...NNS - length 185, strand -1, frame 2  ', 'MNNFVYKIFFLINWKKKIFPVIIQNFFNKK...YFI - length 109, strand -1, frame 2  ', 'QYDFLLYCHIVYYSYIFFFIILLIIIVEII...LKI - length 129, strand -1, frame 2  ', 'IRFIIVKKFFRIMIILSLDIYKNKIVRLYK...KNV - length 237, strand -1, frame 2  ', 'ILKKYKKIKKLFKNIFFKKMKFIPLYDTIV...IIK - length 113, strand -1, frame 2  ', 'KKMGFKKIKFGDEARRCLANGVNLLADAVK...KSN - length 532, strand -1, frame 2  ', 'FIIHMKIIKPNIIFGSSNLYFFKSLLKIFN...YEI - length 311, strand -1, frame 2  ', 'SYYKIYMIKINNKKIIKLIENKKKFLLIST...FKR - length 104, strand -1, frame 2  ', 'YFFFVKYFMSINYKIILDYDNTCINSDSDF...IYK - length 194, strand -1, frame 2  ', 'KNYYNNIKKKRIMIHFSIINYKVNSKNKIF...HIN - length 326, strand -1, frame 2  ', 'IFKIKIFIFNMLFNLINNIRLICIKSIQKA...IKI - length 645, strand -1, frame 2  ']\n"
     ]
    }
   ],
   "source": [
    "file_name= 'GCF_000441575.1_ASM44157v1_genomic.fna'\n",
    "file_type=\"fasta\"\n",
    "dna=open_reading_frame(file_name,file_type)\n",
    "mrna=orf_transcribed(file_name,file_type)\n",
    "aa=orf_translated(file_name,file_type)\n",
    "print(dna)\n",
    "print(\"\\n\")\n",
    "print(mrna)\n",
    "print(\"\\n\")\n",
    "print(aa)"
   ]
  },
  {
   "cell_type": "code",
   "execution_count": null,
   "id": "7b02cbfb-5338-4c08-ba2a-37245eda6406",
   "metadata": {},
   "outputs": [],
   "source": []
  },
  {
   "cell_type": "code",
   "execution_count": null,
   "id": "f89749ab-75f5-4976-b6fd-03938311e603",
   "metadata": {},
   "outputs": [],
   "source": []
  }
 ],
 "metadata": {
  "kernelspec": {
   "display_name": "Python 3 (ipykernel)",
   "language": "python",
   "name": "python3"
  },
  "language_info": {
   "codemirror_mode": {
    "name": "ipython",
    "version": 3
   },
   "file_extension": ".py",
   "mimetype": "text/x-python",
   "name": "python",
   "nbconvert_exporter": "python",
   "pygments_lexer": "ipython3",
   "version": "3.12.4"
  }
 },
 "nbformat": 4,
 "nbformat_minor": 5
}
