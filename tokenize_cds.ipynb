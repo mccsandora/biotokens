{
 "cells": [
  {
   "cell_type": "code",
   "execution_count": 1,
   "id": "399d86b4-efbd-417d-917c-a7298242078c",
   "metadata": {},
   "outputs": [],
   "source": [
    "import pandas as pd\n",
    "import re\n",
    "import sentencepiece as spm\n",
    "\n",
    "from utils.processing_utils import read_gffs\n",
    "from utils.tokenizer_utils import train_sentencepiece_tokenizer, compression_ratio"
   ]
  },
  {
   "cell_type": "code",
   "execution_count": 2,
   "id": "f456f481-cfad-4803-9888-0968b6e7f306",
   "metadata": {},
   "outputs": [],
   "source": [
    "gff_file_path = \"ncbi/fungi/GCF_000146045/GCF_000146045.2_R64_genomic.gff\"\n",
    "genome_file_path = \"ncbi/fungi/GCF_000146045/GCF_000146045.2_R64_genomic.fna\"\n",
    "output_file_path = \"ncbi/fungi/GCF_000146045/joined_cds_sequences.fasta\"\n",
    "\n",
    "cdss = read_gffs(gff_file_path, genome_file_path, output_file_path)\n",
    "cdss = [str(c.seq).upper() for c in cdss]\n",
    "\n",
    "cds_file = \"ncbi/fungi/GCF_000146045/joined_cds_sequences.txt\"\n",
    "with open(cds_file,'w') as f:\n",
    "    f.write('\\n'.join(cdss))\n",
    "    "
   ]
  },
  {
   "cell_type": "code",
   "execution_count": null,
   "id": "8c7ead2a-f02e-46ca-bae1-51877715e3c4",
   "metadata": {
    "tags": []
   },
   "outputs": [],
   "source": [
    "train_sentencepiece_tokenizer(cds_file, \n",
    "                              'ncbi/fungi/GCF_000146045/tokenizer', \n",
    "                              10000)"
   ]
  },
  {
   "cell_type": "code",
   "execution_count": 5,
   "id": "2046eaec-8b72-4746-9b61-cad2f5849496",
   "metadata": {
    "tags": []
   },
   "outputs": [
    {
     "data": {
      "text/plain": [
       "(129070, 15900564, 17650128, 0.9081879746141218)"
      ]
     },
     "execution_count": 5,
     "metadata": {},
     "output_type": "execute_result"
    }
   ],
   "source": [
    "tokenizer = spm.SentencePieceProcessor(model_file='ncbi/fungi/GCF_000146045/tokenizer.model')\n",
    "\n",
    "toks = []\n",
    "for t in tokenizer.encode(cdss):\n",
    "    toks+=t\n",
    "    \n",
    "    \n",
    "vocab = pd.read_csv('ncbi/fungi/GCF_000146045/tokenizer.vocab',sep='\\t',header=None)\n",
    "dfv = vocab\n",
    "vocab = vocab[0].tolist()\n",
    "vocab = [re.sub('[^ACCT]','',v) for v in vocab]\n",
    "\n",
    "\n",
    "compression_ratio(''.join(cdss),toks,vocab)"
   ]
  },
  {
   "cell_type": "code",
   "execution_count": null,
   "id": "2abfa11b-2e94-4fe1-8f65-b6582d18fddd",
   "metadata": {},
   "outputs": [],
   "source": []
  }
 ],
 "metadata": {
  "kernelspec": {
   "display_name": "venv2",
   "language": "python",
   "name": "venv2"
  },
  "language_info": {
   "codemirror_mode": {
    "name": "ipython",
    "version": 3
   },
   "file_extension": ".py",
   "mimetype": "text/x-python",
   "name": "python",
   "nbconvert_exporter": "python",
   "pygments_lexer": "ipython3",
   "version": "3.10.5"
  }
 },
 "nbformat": 4,
 "nbformat_minor": 5
}
