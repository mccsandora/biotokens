{
  "cells": [
    {
      "cell_type": "code",
      "source": [
        "pip install Bio"
      ],
      "metadata": {
        "colab": {
          "base_uri": "https://localhost:8080/"
        },
        "id": "VigMg40Fx608",
        "outputId": "3a8b6825-d316-4218-b8f2-87efc664c8bb"
      },
      "id": "VigMg40Fx608",
      "execution_count": null,
      "outputs": [
        {
          "output_type": "stream",
          "name": "stdout",
          "text": [
            "Collecting Bio\n",
            "  Downloading bio-1.7.1-py3-none-any.whl.metadata (5.7 kB)\n",
            "Collecting biopython>=1.80 (from Bio)\n",
            "  Downloading biopython-1.84-cp310-cp310-manylinux_2_17_x86_64.manylinux2014_x86_64.whl.metadata (12 kB)\n",
            "Collecting gprofiler-official (from Bio)\n",
            "  Downloading gprofiler_official-1.0.0-py3-none-any.whl.metadata (11 kB)\n",
            "Collecting mygene (from Bio)\n",
            "  Downloading mygene-3.2.2-py2.py3-none-any.whl.metadata (10 kB)\n",
            "Requirement already satisfied: pandas in /usr/local/lib/python3.10/dist-packages (from Bio) (2.1.4)\n",
            "Requirement already satisfied: pooch in /usr/local/lib/python3.10/dist-packages (from Bio) (1.8.2)\n",
            "Requirement already satisfied: requests in /usr/local/lib/python3.10/dist-packages (from Bio) (2.32.3)\n",
            "Requirement already satisfied: tqdm in /usr/local/lib/python3.10/dist-packages (from Bio) (4.66.5)\n",
            "Requirement already satisfied: numpy in /usr/local/lib/python3.10/dist-packages (from biopython>=1.80->Bio) (1.26.4)\n",
            "Collecting biothings-client>=0.2.6 (from mygene->Bio)\n",
            "  Downloading biothings_client-0.3.1-py2.py3-none-any.whl.metadata (9.8 kB)\n",
            "Requirement already satisfied: python-dateutil>=2.8.2 in /usr/local/lib/python3.10/dist-packages (from pandas->Bio) (2.8.2)\n",
            "Requirement already satisfied: pytz>=2020.1 in /usr/local/lib/python3.10/dist-packages (from pandas->Bio) (2024.1)\n",
            "Requirement already satisfied: tzdata>=2022.1 in /usr/local/lib/python3.10/dist-packages (from pandas->Bio) (2024.1)\n",
            "Requirement already satisfied: platformdirs>=2.5.0 in /usr/local/lib/python3.10/dist-packages (from pooch->Bio) (4.2.2)\n",
            "Requirement already satisfied: packaging>=20.0 in /usr/local/lib/python3.10/dist-packages (from pooch->Bio) (24.1)\n",
            "Requirement already satisfied: charset-normalizer<4,>=2 in /usr/local/lib/python3.10/dist-packages (from requests->Bio) (3.3.2)\n",
            "Requirement already satisfied: idna<4,>=2.5 in /usr/local/lib/python3.10/dist-packages (from requests->Bio) (3.7)\n",
            "Requirement already satisfied: urllib3<3,>=1.21.1 in /usr/local/lib/python3.10/dist-packages (from requests->Bio) (2.0.7)\n",
            "Requirement already satisfied: certifi>=2017.4.17 in /usr/local/lib/python3.10/dist-packages (from requests->Bio) (2024.7.4)\n",
            "Requirement already satisfied: six>=1.5 in /usr/local/lib/python3.10/dist-packages (from python-dateutil>=2.8.2->pandas->Bio) (1.16.0)\n",
            "Downloading bio-1.7.1-py3-none-any.whl (280 kB)\n",
            "\u001b[2K   \u001b[90m━━━━━━━━━━━━━━━━━━━━━━━━━━━━━━━━━━━━━━━━\u001b[0m \u001b[32m281.0/281.0 kB\u001b[0m \u001b[31m5.5 MB/s\u001b[0m eta \u001b[36m0:00:00\u001b[0m\n",
            "\u001b[?25hDownloading biopython-1.84-cp310-cp310-manylinux_2_17_x86_64.manylinux2014_x86_64.whl (3.2 MB)\n",
            "\u001b[2K   \u001b[90m━━━━━━━━━━━━━━━━━━━━━━━━━━━━━━━━━━━━━━━━\u001b[0m \u001b[32m3.2/3.2 MB\u001b[0m \u001b[31m37.7 MB/s\u001b[0m eta \u001b[36m0:00:00\u001b[0m\n",
            "\u001b[?25hDownloading gprofiler_official-1.0.0-py3-none-any.whl (9.3 kB)\n",
            "Downloading mygene-3.2.2-py2.py3-none-any.whl (5.4 kB)\n",
            "Downloading biothings_client-0.3.1-py2.py3-none-any.whl (29 kB)\n",
            "Installing collected packages: biopython, gprofiler-official, biothings-client, mygene, Bio\n",
            "Successfully installed Bio-1.7.1 biopython-1.84 biothings-client-0.3.1 gprofiler-official-1.0.0 mygene-3.2.2\n"
          ]
        }
      ]
    },
    {
      "cell_type": "code",
      "execution_count": null,
      "id": "9bf15e3b-a732-43d0-bd17-312e8ea4cb8b",
      "metadata": {
        "id": "9bf15e3b-a732-43d0-bd17-312e8ea4cb8b"
      },
      "outputs": [],
      "source": [
        "import lzma\n",
        "import numpy as np\n",
        "from utils.processing_utils import read_gffs"
      ]
    },
    {
      "cell_type": "code",
      "source": [
        "from Bio import SeqIO"
      ],
      "metadata": {
        "id": "xljghZxkxyOa"
      },
      "id": "xljghZxkxyOa",
      "execution_count": null,
      "outputs": []
    },
    {
      "cell_type": "code",
      "source": [
        "def join_cds_ncrna(input_file,output_file):\n",
        "  with open(output_file,'w') as file:\n",
        "      for record in SeqIO.parse(input_file,\"fasta\"):\n",
        "        file.write(str(record.seq)+\"\\n\")"
      ],
      "metadata": {
        "id": "jDOVAgHXxsMx"
      },
      "id": "jDOVAgHXxsMx",
      "execution_count": null,
      "outputs": []
    },
    {
      "cell_type": "code",
      "source": [
        "join_cds_ncrna('Drosophila_melanogaster_ncrna.txt','Arabidopsis_thaliana_joined_ncRna.txt')"
      ],
      "metadata": {
        "id": "Ksm4sAUKx1mL"
      },
      "id": "Ksm4sAUKx1mL",
      "execution_count": null,
      "outputs": []
    },
    {
      "cell_type": "code",
      "source": [
        "import re\n",
        "genome=[]\n",
        "with open(\"Thermosphaera_aggregans_ncrna.txt\",'r') as file:\n",
        "  genome=file.read()\n",
        "genome = re.sub('[^ACGT]','',genome)"
      ],
      "metadata": {
        "id": "8W68XN-wyD5M"
      },
      "id": "8W68XN-wyD5M",
      "execution_count": null,
      "outputs": []
    },
    {
      "cell_type": "code",
      "source": [
        "print('ncrna length: ',len(genome))"
      ],
      "metadata": {
        "colab": {
          "base_uri": "https://localhost:8080/"
        },
        "id": "WJgYP7U9PQTq",
        "outputId": "aa3ce1e2-a557-43a3-deb9-9aaff8398ed2"
      },
      "id": "WJgYP7U9PQTq",
      "execution_count": null,
      "outputs": [
        {
          "output_type": "stream",
          "name": "stdout",
          "text": [
            "ncrna length:  5170\n"
          ]
        }
      ]
    },
    {
      "cell_type": "code",
      "execution_count": null,
      "id": "514a4a0b-1a89-40d0-9cc8-bda2a964a23b",
      "metadata": {
        "colab": {
          "base_uri": "https://localhost:8080/"
        },
        "id": "514a4a0b-1a89-40d0-9cc8-bda2a964a23b",
        "outputId": "2980b782-af8b-456d-cbf7-a3b03aa0ed75"
      },
      "outputs": [
        {
          "output_type": "stream",
          "name": "stdout",
          "text": [
            "ncrna compressibility:  0.32030947775628626\n",
            "['I:ÈjÁ[+V¯@Õ¦kã^Z\u0015Ú®©ÂS¨¶Fuyªn\u001ax²FéÁy]¨ª\u0011j\u0001ë5TÊ ¦^­}v\u0000¥i*¼åeb©Æ4¬¾¬\u001aVP0jê¥¸¨R:â\u0010\n",
            "encoded ncrna compressibility 1.1693735498839908\n"
          ]
        }
      ],
      "source": [
        "def sub_in(genome):\n",
        "    code = [('A','00'),\n",
        "     ('C','01'),\n",
        "     ('G','10'),\n",
        "     ('T','11')]\n",
        "    genome=genome.replace(' ','')\n",
        "    for c,d in code:\n",
        "        genome = genome.replace(c,d)\n",
        "    encoded_genome =  [chr(int(genome[k:k+8],2))\n",
        "                       for k in np.arange(0,len(genome),8)]\n",
        "    return ''.join(encoded_genome)\n",
        "\n",
        "compressed_genome = lzma.compress(bytes(genome,'utf-8'))\n",
        "\n",
        "print('ncrna compressibility: ',len(compressed_genome)/len(genome))\n",
        "encoded_genome = sub_in(genome)\n",
        "print(encoded_genome[:100])\n",
        "\n",
        "compressed_encoded_genome = lzma.compress(bytes(encoded_genome,'utf-8'))\n",
        "\n",
        "print(\"encoded ncrna compressibility\",len(compressed_encoded_genome)/len(encoded_genome))"
      ]
    },
    {
      "cell_type": "code",
      "source": [
        "join_cds_ncrna('Arabidopsis_thaliana.TAIR10.cds.all.fa','Arabidopsis_thaliana_joined_cds.txt')"
      ],
      "metadata": {
        "id": "IPVsfOOpycJ_"
      },
      "id": "IPVsfOOpycJ_",
      "execution_count": null,
      "outputs": []
    },
    {
      "cell_type": "code",
      "source": [
        "cds=[]\n",
        "with open(\"Thermosphaera_aggregans_cds.txt\",'r') as file:\n",
        "  genome=file.read()\n",
        "cds = re.sub('[^ACGT]','',genome)"
      ],
      "metadata": {
        "id": "KlM9fGV8ycsD"
      },
      "id": "KlM9fGV8ycsD",
      "execution_count": null,
      "outputs": []
    },
    {
      "cell_type": "code",
      "source": [
        "print('cds length:',len(cds))"
      ],
      "metadata": {
        "colab": {
          "base_uri": "https://localhost:8080/"
        },
        "id": "S-TXQ4ucPK3o",
        "outputId": "ffc17a64-e8ac-497e-d9e7-48d1cdf39049"
      },
      "id": "S-TXQ4ucPK3o",
      "execution_count": null,
      "outputs": [
        {
          "output_type": "stream",
          "name": "stdout",
          "text": [
            "cds length: 1210533\n"
          ]
        }
      ]
    },
    {
      "cell_type": "code",
      "source": [
        "def sub_in(genome):\n",
        "    code = [('A','00'),\n",
        "     ('C','01'),\n",
        "     ('G','10'),\n",
        "     ('T','11')]\n",
        "    genome=genome.replace(' ','')\n",
        "    for c,d in code:\n",
        "        genome = genome.replace(c,d)\n",
        "    encoded_genome =  [chr(int(genome[k:k+8],2))\n",
        "                       for k in np.arange(0,len(genome),8)]\n",
        "    return ''.join(encoded_genome)\n",
        "\n",
        "compressed_genome = lzma.compress(bytes(cds,'utf-8'))\n",
        "\n",
        "print('cds compressibility: ',len(compressed_genome)/len(cds))\n",
        "encoded_genome = sub_in(cds)\n",
        "print(encoded_genome[:100])\n",
        "\n",
        "compressed_encoded_genome = lzma.compress(bytes(encoded_genome,'utf-8'))\n",
        "\n",
        "print('encoded cds compressibility: ',len(compressed_encoded_genome)/len(encoded_genome))"
      ],
      "metadata": {
        "colab": {
          "base_uri": "https://localhost:8080/"
        },
        "id": "eh7YgkmfyqI6",
        "outputId": "26bd056c-ef30-4fd7-e35c-df7cef75cdf9"
      },
      "id": "eh7YgkmfyqI6",
      "execution_count": null,
      "outputs": [
        {
          "output_type": "stream",
          "name": "stdout",
          "text": [
            "cds compressibility:  0.2642307148999656\n",
            ":øÃ:(|¾Ò%°L}ßI\n",
            "¾\ft|û4²¼R Ê&|\"\u0016k³ðJ\u0003¯ÌoT×s._È¿\u0000&ä\u0003\u000fÐ\tf ×¸\n",
            "encoded cds compressibility:  1.0144795363376224\n"
          ]
        }
      ]
    }
  ],
  "metadata": {
    "kernelspec": {
      "display_name": "venv2",
      "language": "python",
      "name": "venv2"
    },
    "language_info": {
      "codemirror_mode": {
        "name": "ipython",
        "version": 3
      },
      "file_extension": ".py",
      "mimetype": "text/x-python",
      "name": "python",
      "nbconvert_exporter": "python",
      "pygments_lexer": "ipython3",
      "version": "3.10.5"
    },
    "colab": {
      "provenance": []
    }
  },
  "nbformat": 4,
  "nbformat_minor": 5
}